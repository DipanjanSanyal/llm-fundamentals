{
 "cells": [
  {
   "cell_type": "markdown",
   "id": "53bef656",
   "metadata": {
    "papermill": {
     "duration": 0.004715,
     "end_time": "2025-04-10T13:11:38.552864",
     "exception": false,
     "start_time": "2025-04-10T13:11:38.548149",
     "status": "completed"
    },
    "tags": []
   },
   "source": [
    "`Adapted from ng-video-lecture by Andrej Karpathy`\n",
    "\n",
    "`Original source: https://github.com/karpathy/ng-video-lecture`\n",
    "\n",
    "`Simplified and modified for clarity and educational use`"
   ]
  },
  {
   "cell_type": "code",
   "execution_count": 10,
   "id": "27b1b469",
   "metadata": {},
   "outputs": [
    {
     "name": "stdout",
     "output_type": "stream",
     "text": [
      "/Users/dipanjansanyal/Documents/llm-fundamentals/llm-fundamentals/env/bin/python\n"
     ]
    }
   ],
   "source": [
    "import sys\n",
    "print(sys.executable)"
   ]
  },
  {
   "cell_type": "code",
   "execution_count": 11,
   "id": "82899a7d",
   "metadata": {
    "execution": {
     "iopub.execute_input": "2025-04-10T13:11:38.562124Z",
     "iopub.status.busy": "2025-04-10T13:11:38.561867Z",
     "iopub.status.idle": "2025-04-10T13:11:38.568994Z",
     "shell.execute_reply": "2025-04-10T13:11:38.568245Z"
    },
    "papermill": {
     "duration": 0.013661,
     "end_time": "2025-04-10T13:11:38.570687",
     "exception": false,
     "start_time": "2025-04-10T13:11:38.557026",
     "status": "completed"
    },
    "tags": []
   },
   "outputs": [],
   "source": [
    "# Experiment Configuration\n",
    "context_length = 64\n",
    "embed_dim = 128\n",
    "heads = 4\n",
    "layers = 3\n",
    "batch_size = 32\n",
    "num_iters = 3000\n",
    "learning_rate = 0.00003\n",
    "response_tokens = 50"
   ]
  },
  {
   "cell_type": "code",
   "execution_count": 12,
   "id": "9d39e548",
   "metadata": {
    "execution": {
     "iopub.execute_input": "2025-04-10T13:11:50.855473Z",
     "iopub.status.busy": "2025-04-10T13:11:50.855179Z",
     "iopub.status.idle": "2025-04-10T13:11:56.601579Z",
     "shell.execute_reply": "2025-04-10T13:11:56.600627Z"
    },
    "papermill": {
     "duration": 5.753672,
     "end_time": "2025-04-10T13:11:56.603290",
     "exception": false,
     "start_time": "2025-04-10T13:11:50.849618",
     "status": "completed"
    },
    "tags": []
   },
   "outputs": [
    {
     "data": {
      "text/plain": [
       "<torch._C.Generator at 0x13c9cdc90>"
      ]
     },
     "execution_count": 12,
     "metadata": {},
     "output_type": "execute_result"
    }
   ],
   "source": [
    "import os\n",
    "from tqdm import trange\n",
    "import numpy as np # linear algebra\n",
    "import pandas as pd # data processing, CSV file I/O (e.g. pd.read_csv)\n",
    "import matplotlib.pyplot as plt\n",
    "import seaborn as sns\n",
    "import re\n",
    "import tokenmonster\n",
    "import torch\n",
    "import torch.nn as nn\n",
    "torch.manual_seed(123)"
   ]
  },
  {
   "cell_type": "code",
   "execution_count": 13,
   "id": "c6dad121",
   "metadata": {
    "execution": {
     "iopub.execute_input": "2025-04-10T13:11:56.614262Z",
     "iopub.status.busy": "2025-04-10T13:11:56.613863Z",
     "iopub.status.idle": "2025-04-10T13:11:56.686052Z",
     "shell.execute_reply": "2025-04-10T13:11:56.685232Z"
    },
    "papermill": {
     "duration": 0.07939,
     "end_time": "2025-04-10T13:11:56.687636",
     "exception": false,
     "start_time": "2025-04-10T13:11:56.608246",
     "status": "completed"
    },
    "tags": []
   },
   "outputs": [
    {
     "name": "stdout",
     "output_type": "stream",
     "text": [
      "mps\n"
     ]
    }
   ],
   "source": [
    "# Check if MPS is available and use it if available (Mac)\n",
    "# Otherwise check if GPU is available and use it if available\n",
    "# Else use CPU\n",
    "\n",
    "if torch.backends.mps.is_available():\n",
    "    device = torch.device(\"mps\")\n",
    "elif torch.cuda.is_available():\n",
    "    device = torch.device(\"cuda\")\n",
    "else:\n",
    "    device = torch.device(\"cpu\")\n",
    "\n",
    "print(device)"
   ]
  },
  {
   "cell_type": "markdown",
   "id": "4a54faad",
   "metadata": {},
   "source": [
    "### Data and Tokenization\n",
    "\n",
    "I downloaded a tiny CEFR data and worked on a it. Recommended to try on better datasets.\n",
    "\n",
    "Note that, the batching here is a bit different than traidional epoch vs batch scenario when using `DataLoader()` because here we are not necessarily forming epochs. 1 epoch is supposed to be a full pass of the data and that happens through pre-configured batching iterator `DataLoader()`. Under each epoch, we pass a batch which is called an iteration. However, for that, we have to form a 2D tensor which will be heavy for large dataset.\n",
    "\n",
    "Here we are directly forming the iteration without ensuring a full pass of the whole dataset. This is done in order to save memory space by not loading a huge 2D tensor. We can run the model upto desired number of steps by directly forming that many batches.\n",
    "\n",
    "Also, in this case, I loaded the full text into `texts` but that can also be optimized by directly pulling batch from a saved text file."
   ]
  },
  {
   "cell_type": "code",
   "execution_count": 14,
   "id": "e4575ea2",
   "metadata": {},
   "outputs": [
    {
     "name": "stdout",
     "output_type": "stream",
     "text": [
      "Dataset shape: (288, 1)\n",
      "Dataset columns: Index(['text'], dtype='object')\n"
     ]
    }
   ],
   "source": [
    "# Reading the dataset\n",
    "dataset = pd.read_csv(\"./data/cefr_leveled_texts.csv\", index_col=0)\n",
    "dataset = dataset.query('label == \"A1\"').reset_index() # Selecting easiest level\n",
    "# Deduplicate repeated headlines\n",
    "dataset = dataset.filter(['text']).drop_duplicates()\n",
    "print(\"Dataset shape:\", dataset.shape)\n",
    "print(\"Dataset columns:\", dataset.columns)\n",
    "\n",
    "# Excluding short texts\n",
    "paragraphs = dataset['text'].tolist()\n",
    "paragraphs = [p for p in paragraphs if len(p) > 10]\n",
    "\n",
    "# Streaming the data\n",
    "texts = '<|endoftext|>'.join(paragraphs)"
   ]
  },
  {
   "cell_type": "markdown",
   "id": "de82facf",
   "metadata": {},
   "source": [
    "In order to ensure a tiny model, I used tiny tokenizer from `tokenmonster` but a more standard tokenizer like GPT tokenizer could also be chosen. Smaller tokenizers have smaller word-pieces as tokens, so even forming a meaningful word with them is quite a task for the model. In case of GPT tokenizer, the model size would increase but it won't struggle to form words. "
   ]
  },
  {
   "cell_type": "code",
   "execution_count": 15,
   "id": "4bcc8b06",
   "metadata": {
    "execution": {
     "iopub.execute_input": "2025-04-10T13:12:03.770355Z",
     "iopub.status.busy": "2025-04-10T13:12:03.769640Z",
     "iopub.status.idle": "2025-04-10T13:12:04.215538Z",
     "shell.execute_reply": "2025-04-10T13:12:04.214715Z"
    },
    "papermill": {
     "duration": 0.453084,
     "end_time": "2025-04-10T13:12:04.217067",
     "exception": false,
     "start_time": "2025-04-10T13:12:03.763983",
     "status": "completed"
    },
    "tags": []
   },
   "outputs": [],
   "source": [
    "# Loading pre-trained tokenizer (a very small one so that model doesn't become too big)\n",
    "# Adding special end of document token using which we shall be streaming the data\n",
    "tokenizer = tokenmonster.load(\"english-2048-consistent-v1\")\n",
    "tokenizer.add_special_token('<|endoftext|>')\n",
    "\n",
    "# Tokenizing\n",
    "tokens = tokenizer.tokenize(texts)"
   ]
  },
  {
   "cell_type": "code",
   "execution_count": 16,
   "id": "c57228ff",
   "metadata": {},
   "outputs": [],
   "source": [
    "# Batching with train/test split\n",
    "\n",
    "def get_batch(mode, train_ratio):\n",
    "    \n",
    "    train_test_cutover_token = int(len(tokens) * train_ratio)\n",
    "\n",
    "    seq = np.empty((batch_size, context_length), dtype=np.int64)\n",
    "    for i in range(batch_size):\n",
    "        if mode == 'train':\n",
    "            start = np.random.randint(0, train_test_cutover_token - context_length)\n",
    "        elif mode == 'test':\n",
    "            start = np.random.randint(train_test_cutover_token, len(tokens) - context_length)\n",
    "        else:\n",
    "            raise ValueError(\"mode must be 'train' or 'test'\")\n",
    "        \n",
    "        seq[i] = tokens[start : start + context_length]\n",
    "    \n",
    "    xb = torch.tensor(seq[:,:-1], dtype=torch.long).to(device)\n",
    "    yb = torch.tensor(seq[:,1:], dtype=torch.long).to(device)\n",
    "\n",
    "    return xb, yb"
   ]
  },
  {
   "cell_type": "markdown",
   "id": "6bdaa7e2",
   "metadata": {
    "papermill": {
     "duration": 0.004779,
     "end_time": "2025-04-10T13:12:50.604182",
     "exception": false,
     "start_time": "2025-04-10T13:12:50.599403",
     "status": "completed"
    },
    "tags": []
   },
   "source": [
    "### Model Building"
   ]
  },
  {
   "cell_type": "code",
   "execution_count": 17,
   "id": "e03cb492",
   "metadata": {},
   "outputs": [],
   "source": [
    "# Borrowing the FeedForward and Block classes from Part 2 notebook + dropout and layer norm\n",
    "# We shall be using in-built MultiHeadAttention class from PyTorch\n",
    "\n",
    "class FeedFoward(nn.Module):\n",
    "\n",
    "    def __init__(self, C):\n",
    "        super().__init__()\n",
    "        self.net = nn.Sequential(\n",
    "            nn.Linear(C, 4 * C),\n",
    "            nn.ReLU(),\n",
    "            nn.Linear(4 * C, C),\n",
    "            nn.Dropout(0.2)\n",
    "        )\n",
    "\n",
    "    def forward(self, mh_out):\n",
    "        ff_out = self.net(mh_out)\n",
    "        return ff_out\n",
    "\n",
    "class Block(nn.Module):\n",
    "\n",
    "    def __init__(self, C, num_heads, T):\n",
    "        super().__init__()\n",
    "        \n",
    "        hs = C // num_heads # because in the end the heads will be concatenated to C\n",
    "        self.multihead = nn.MultiheadAttention(C, num_heads, dropout=0.2, batch_first=True)\n",
    "        self.ff = FeedFoward(C)\n",
    "        self.ln1 = nn.LayerNorm(C)\n",
    "        self.ln2 = nn.LayerNorm(C)\n",
    "        self.proj_q = nn.Linear(C, C)\n",
    "        self.proj_k = nn.Linear(C, C)\n",
    "        self.proj_v = nn.Linear(C, C)\n",
    "        self.register_buffer('attn_mask', nn.Transformer.generate_square_subsequent_mask(T-1))\n",
    "\n",
    "    def forward(self, x_embed):\n",
    "        \n",
    "        B, t, C = x_embed.size()\n",
    "        x_embed_norm = self.ln1(x_embed)\n",
    "        q = self.proj_q(x_embed_norm)\n",
    "        k = self.proj_k(x_embed_norm)\n",
    "        v = self.proj_v(x_embed_norm)\n",
    "        attn = self.attn_mask[:t, :t].to(device)\n",
    "        mh_out, _ = self.multihead(q, k, v, is_causal=True, attn_mask=attn)\n",
    "        mh_out = x_embed_norm + mh_out\n",
    "        mh_out_norm = self.ln2(mh_out)\n",
    "        block_out = mh_out_norm + self.ff(mh_out_norm)\n",
    "        return block_out\n"
   ]
  },
  {
   "cell_type": "code",
   "execution_count": 18,
   "id": "22005eec",
   "metadata": {},
   "outputs": [],
   "source": [
    "# Borrowing the language model class from Part 2 notebook with a few changes\n",
    "\n",
    "class GPTLanguageModel(nn.Module):\n",
    "    \n",
    "    def __init__(self, V, T, C, num_heads, n_layer):\n",
    "        super().__init__()\n",
    "        \n",
    "        self.token_embedding_table = nn.Embedding(V, C)\n",
    "        self.position_embedding_table = nn.Embedding(T-1, C)\n",
    "        self.blocks = nn.Sequential(*[Block(C, num_heads, T) for _ in range(n_layer)])\n",
    "        self.lm_head = nn.Linear(C, V)\n",
    "\n",
    "    def forward(self, idx, targets=None):\n",
    "        B, t = idx.shape\n",
    "        x_tok_embed = self.token_embedding_table(idx)\n",
    "        x_pos_embed = self.position_embedding_table(torch.arange(t, device=idx.device))\n",
    "        x_embed = x_tok_embed + x_pos_embed\n",
    "        x_t_out = self.blocks(x_embed)\n",
    "        x_logits = self.lm_head(x_t_out)\n",
    "\n",
    "        if targets is None:\n",
    "            loss = None\n",
    "        else:\n",
    "            B, t, C = x_logits.shape\n",
    "            logits = x_logits.view(B*t, C)\n",
    "            targets = targets.view(B*t)\n",
    "            loss = nn.functional.cross_entropy(logits, targets)\n",
    "\n",
    "        return x_logits, loss\n"
   ]
  },
  {
   "cell_type": "markdown",
   "id": "e55b2c73",
   "metadata": {},
   "source": [
    "### Model class I/O testing"
   ]
  },
  {
   "cell_type": "code",
   "execution_count": 19,
   "id": "0cd53f8f",
   "metadata": {},
   "outputs": [
    {
     "name": "stdout",
     "output_type": "stream",
     "text": [
      "torch.Size([32, 63, 2049])\n",
      "tensor(7.8085, device='mps:0', grad_fn=<NllLossBackward0>)\n"
     ]
    }
   ],
   "source": [
    "# Call instance of our model class\n",
    "model = GPTLanguageModel(V=tokenizer.vocab_size, T=context_length, C=embed_dim, num_heads=heads, n_layer=layers)\n",
    "model = model.to(device)\n",
    "\n",
    "# Calling a batch of data\n",
    "xb, yb = get_batch('train', 0.8)\n",
    "\n",
    "# Pass predictor sequence through the model\n",
    "x_logits, loss = model(idx = xb, targets = yb)\n",
    "\n",
    "print(x_logits.shape)\n",
    "print(loss)\n"
   ]
  },
  {
   "cell_type": "markdown",
   "id": "7155702a",
   "metadata": {},
   "source": [
    "### Training the model"
   ]
  },
  {
   "cell_type": "code",
   "execution_count": 20,
   "id": "52ad2800",
   "metadata": {},
   "outputs": [
    {
     "name": "stderr",
     "output_type": "stream",
     "text": [
      "Iterations: 100%|██████████| 3000/3000 [01:34<00:00, 31.82it/s]\n"
     ]
    }
   ],
   "source": [
    "# Call instance of model class\n",
    "m = GPTLanguageModel(V=tokenizer.vocab_size, T=context_length, C=embed_dim, num_heads=heads, n_layer=layers)\n",
    "m.to(device)\n",
    "\n",
    "# Define optimizer\n",
    "optim = torch.optim.AdamW(m.parameters(), lr=learning_rate)\n",
    "\n",
    "# Training loop\n",
    "batch_train_loss = []\n",
    "batch_test_loss = []\n",
    "\n",
    "for i in trange(num_iters, desc=\"Iterations\"):    \n",
    "\n",
    "    m.train()\n",
    "    Xb, yb = get_batch('train', 0.9)        \n",
    "\n",
    "    # forward pass and loss\n",
    "    _, loss = m.forward(Xb, yb)        \n",
    "\n",
    "    # backprop\n",
    "    optim.zero_grad()\n",
    "    loss.backward()\n",
    "    optim.step()\n",
    "\n",
    "    # print(\"Trained for epoch {}\".format(epochi))        \n",
    "    batch_train_loss.append(loss.item())   \n",
    "\n",
    "    m.eval()\n",
    "    with torch.no_grad():\n",
    "        Xb, yb = get_batch('test', 0.9)           \n",
    "\n",
    "        # forward pass and loss\n",
    "        _, loss = m.forward(Xb, yb)        \n",
    "\n",
    "        batch_test_loss.append(loss.item())    \n",
    "\n",
    "        # print(\"Eval for epoch {}\".format(epochi))    \n",
    "\n",
    "    # Clear cache in case of GPU\n",
    "    if device == torch.device(\"cuda\"):\n",
    "        torch.cuda.empty_cache()"
   ]
  },
  {
   "cell_type": "code",
   "execution_count": 21,
   "id": "418230ad",
   "metadata": {},
   "outputs": [
    {
     "data": {
      "text/plain": [
       "<Axes: title={'center': 'Training and Test Loss'}, xlabel='Iterations', ylabel='Loss'>"
      ]
     },
     "execution_count": 21,
     "metadata": {},
     "output_type": "execute_result"
    },
    {
     "data": {
      "image/png": "[encoded data removed]",
      "text/plain": [
       "<Figure size 1000x500 with 1 Axes>"
      ]
     },
     "metadata": {},
     "output_type": "display_data"
    }
   ],
   "source": [
    "# Plot to see drop in test loss\n",
    "\n",
    "losses = pd.DataFrame(\n",
    "    {'batch_train_loss':batch_train_loss, \n",
    "     'batch_test_loss':batch_test_loss}\n",
    ")\n",
    "\n",
    "losses.plot(kind='line', figsize=(10, 5), xlabel='Iterations', ylabel='Loss', title='Training and Test Loss')\n"
   ]
  },
  {
   "cell_type": "code",
   "execution_count": 22,
   "id": "a91eea93",
   "metadata": {},
   "outputs": [],
   "source": [
    "# Save the model\n",
    "torch.save(m.state_dict(), './model/gpt_model.pth')"
   ]
  },
  {
   "cell_type": "markdown",
   "id": "e9974245",
   "metadata": {},
   "source": [
    "### Generation"
   ]
  },
  {
   "cell_type": "code",
   "execution_count": 23,
   "id": "0ca7ace5",
   "metadata": {},
   "outputs": [
    {
     "data": {
      "text/plain": [
       "<All keys matched successfully>"
      ]
     },
     "execution_count": 23,
     "metadata": {},
     "output_type": "execute_result"
    }
   ],
   "source": [
    "# Recreate the model architecture\n",
    "loaded_model = GPTLanguageModel(\n",
    "    V=tokenizer.vocab_size, \n",
    "    T=context_length, \n",
    "    C=embed_dim, \n",
    "    num_heads=heads, \n",
    "    n_layer=layers\n",
    ")\n",
    "loaded_model = loaded_model.to(device)\n",
    "\n",
    "# Load the saved weights\n",
    "loaded_model.load_state_dict(torch.load('./model/gpt_model.pth', map_location=device))"
   ]
  },
  {
   "cell_type": "code",
   "execution_count": 25,
   "id": "9bf454b8",
   "metadata": {},
   "outputs": [
    {
     "name": "stdout",
     "output_type": "stream",
     "text": [
      "------------------------\n",
      "Here is the given sequence:\n",
      " Going to school is fun and\n",
      "\n",
      "Here is the generated sequence:\n",
      " Going to school is fun and This. He wanted to see the lilow, but she looked at the. She thought. He didn't sair. The trash. She toldt. She looked at the. She turned her mom. She told her no. She\n",
      "------------------------\n",
      "Here is the given sequence:\n",
      " I really like pizza as much as I like holidays because\n",
      "\n",
      "Here is the generated sequence:\n",
      " I really like pizza as much as I like holidays because the cat. He wanted to. He went was. He put the whed. He went to the picked the man the man. He looked at the. He wented the dby. He asked. He could he took the t\n"
     ]
    }
   ],
   "source": [
    "# user input\n",
    "queries = [\n",
    "    \"Going to school is fun and\", \n",
    "    \"I really like pizza as much as I like holidays because\"\n",
    "]\n",
    "temperature = 0.3\n",
    "\n",
    "\n",
    "import warnings\n",
    "warnings.filterwarnings('ignore')\n",
    "\n",
    "\n",
    "# Text completion loop\n",
    "for q in queries:\n",
    "\n",
    "    print(\"------------------------\")\n",
    "    print(\"Here is the given sequence:\\n\", q)\n",
    "\n",
    "    qt = tokenizer.tokenize(q)\n",
    "    qt = torch.from_numpy(qt).long()\n",
    "    result = qt.unsqueeze(0).to(device)\n",
    "\n",
    "    \n",
    "    for i in range(response_tokens):\n",
    "        new_inputs = result[:, -(context_length-1):]\n",
    "        m.eval()\n",
    "        with torch.no_grad():\n",
    "            x_logits, _ = loaded_model(idx=new_inputs, targets=None)\n",
    "        \n",
    "        # Get logits for the last token\n",
    "        next_token_logits = x_logits[:, -1, :]  # shape: (1, vocab_size)\n",
    "        # Apply temperature\n",
    "        next_token_logits = next_token_logits / temperature\n",
    "        # Convert logits to probabilities\n",
    "        probs = torch.softmax(next_token_logits, dim=-1)\n",
    "        # Sample from the distribution\n",
    "        predicted_next_token = torch.multinomial(probs, num_samples=1)\n",
    "        result = torch.cat((result, predicted_next_token), dim=1)\n",
    "\n",
    "    print(\"\\nHere is the generated sequence:\\n\", tokenizer.decoder().decode(result.squeeze(0).tolist()))"
   ]
  }
 ],
 "metadata": {
  "kaggle": {
   "accelerator": "gpu",
   "dataSources": [
    {
     "datasetId": 5914,
     "sourceId": 6944507,
     "sourceType": "datasetVersion"
    }
   ],
   "dockerImageVersionId": 30762,
   "isGpuEnabled": true,
   "isInternetEnabled": true,
   "language": "python",
   "sourceType": "notebook"
  },
  "kernelspec": {
   "display_name": "Python 3",
   "language": "python",
   "name": "python3"
  },
  "language_info": {
   "codemirror_mode": {
    "name": "ipython",
    "version": 3
   },
   "file_extension": ".py",
   "mimetype": "text/x-python",
   "name": "python",
   "nbconvert_exporter": "python",
   "pygments_lexer": "ipython3",
   "version": "3.13.3"
  },
  "papermill": {
   "default_parameters": {},
   "duration": 11032.474625,
   "end_time": "2025-04-10T16:15:28.588659",
   "environment_variables": {},
   "exception": null,
   "input_path": "__notebook__.ipynb",
   "output_path": "__notebook__.ipynb",
   "parameters": {},
   "start_time": "2025-04-10T13:11:36.114034",
   "version": "2.6.0"
  }
 },
 "nbformat": 4,
 "nbformat_minor": 5
}
