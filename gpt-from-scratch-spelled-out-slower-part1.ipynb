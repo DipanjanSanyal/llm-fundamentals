{
 "cells": [
  {
   "cell_type": "markdown",
   "id": "86f65d96",
   "metadata": {
    "execution": {
     "iopub.execute_input": "2025-05-05T16:09:18.654670Z",
     "iopub.status.busy": "2025-05-05T16:09:18.654011Z",
     "iopub.status.idle": "2025-05-05T16:09:18.840751Z",
     "shell.execute_reply": "2025-05-05T16:09:18.839803Z",
     "shell.execute_reply.started": "2025-05-05T16:09:18.654643Z"
    },
    "papermill": {
     "duration": 0.006641,
     "end_time": "2025-05-08T11:49:06.412622",
     "exception": false,
     "start_time": "2025-05-08T11:49:06.405981",
     "status": "completed"
    },
    "tags": []
   },
   "source": [
    "`Adapted from ng-video-lecture by Andrej Karpathy`\n",
    "\n",
    "`Original source: https://github.com/karpathy/ng-video-lecture`\n",
    "\n",
    "`Simplified and modified for clarity and educational use`"
   ]
  },
  {
   "cell_type": "markdown",
   "id": "35a17f5d",
   "metadata": {
    "papermill": {
     "duration": 0.005253,
     "end_time": "2025-05-08T11:49:06.423820",
     "exception": false,
     "start_time": "2025-05-08T11:49:06.418567",
     "status": "completed"
    },
    "tags": []
   },
   "source": [
    "### Data & Tokenization:\n",
    "A huge corpus of text from which the model will learn to talk, along with the knowledge inherent in the data. For example, if most of the times in the data, the text ‘What the’ is followed by ‘hell’, it would learn that pattern and will be able to produce it. \n",
    "\n",
    "Usually, long texts are considered for training data, like a whole novel, and we need to get rid of very short texts. We could also consider short texts but then a lot of complexity related to padding will arise, and short sequences won't add value to the learning."
   ]
  },
  {
   "cell_type": "code",
   "execution_count": 3,
   "id": "ca9ca8eb",
   "metadata": {
    "execution": {
     "iopub.execute_input": "2025-05-08T11:49:06.437041Z",
     "iopub.status.busy": "2025-05-08T11:49:06.436537Z",
     "iopub.status.idle": "2025-05-08T11:49:06.449884Z",
     "shell.execute_reply": "2025-05-08T11:49:06.448743Z"
    },
    "papermill": {
     "duration": 0.022214,
     "end_time": "2025-05-08T11:49:06.451511",
     "exception": false,
     "start_time": "2025-05-08T11:49:06.429297",
     "status": "completed"
    },
    "tags": []
   },
   "outputs": [
    {
     "data": {
      "text/plain": [
       "['Politics may be used positively in the context of a \"political solution\" which is compromising and non-violent, or descriptively as \"the art or science of government\", but the word often also carries a negative connotation. The concept has been defined in various ways, and different approaches have fundamentally differing views on whether it should be used extensively or in a limited way, empirically or normatively, and on whether conflict or co-operation is more essential to it.',\n",
       " 'Hello World!',\n",
       " 'Education is the transmission of knowledge and skills and the development of character traits. Formal education occurs within a structured institutional framework, such as public schools, following a curriculum. Non-formal education also follows a structured approach but occurs outside the formal schooling system, while informal education involves unstructured learning through daily experiences. Formal and non-formal education are categorized into levels, including early childhood education, primary education, secondary education, and tertiary education. Other classifications focus on teaching methods, such as teacher-centered and student-centered education, and on subjects, such as science education, language education, and physical education. Additionally, the term \"education\" can denote the mental states and qualities of educated individuals and the academic field studying educational phenomena.']"
      ]
     },
     "execution_count": 3,
     "metadata": {},
     "output_type": "execute_result"
    }
   ],
   "source": [
    "# Loading data\n",
    "paragraphs = [\n",
    "    '''Politics may be used positively in the context of a \"political solution\" which is compromising and\n",
    "    non-violent, or descriptively as \"the art or science of government\", but the word often also carries a\n",
    "    negative connotation. The concept has been defined in various ways, and different approaches have\n",
    "    fundamentally differing views on whether it should be used extensively or in a limited way, empirically\n",
    "    or normatively, and on whether conflict or co-operation is more essential to it.''', \n",
    "\n",
    "    \"Hello World!\",\n",
    "    \n",
    "    '''Education is the transmission of knowledge and skills and the development of character traits.\n",
    "    Formal education occurs within a structured institutional framework, such as public schools, following\n",
    "    a curriculum. Non-formal education also follows a structured approach but occurs outside the formal\n",
    "    schooling system, while informal education involves unstructured learning through daily experiences.\n",
    "    Formal and non-formal education are categorized into levels, including early childhood education,\n",
    "    primary education, secondary education, and tertiary education. Other classifications focus on teaching\n",
    "    methods, such as teacher-centered and student-centered education, and on subjects, such as science education,\n",
    "    language education, and physical education. Additionally, the term \"education\" can denote the mental states\n",
    "    and qualities of educated individuals and the academic field studying educational phenomena.'''\n",
    "]\n",
    "\n",
    "# Clean up line breaks due to manually pasting the data\n",
    "paragraphs = [p.replace('\\n   ','') for p in paragraphs]\n",
    "paragraphs"
   ]
  },
  {
   "cell_type": "markdown",
   "id": "533ae692",
   "metadata": {
    "papermill": {
     "duration": 0.005049,
     "end_time": "2025-05-08T11:49:06.462236",
     "exception": false,
     "start_time": "2025-05-08T11:49:06.457187",
     "status": "completed"
    },
    "tags": []
   },
   "source": [
    "In practice, the whole dataset is not loaded in python but kept in a **streamed (joined)** text file. The joining is done with a special `end_of_document` token. So it becomes a very long sequene of tokens.\n",
    "\n",
    "Then chunks from random positions are picked in batches and passed into training. It saves the memory to load entire dataset. We will implement similar thing with this small data but we will load the data for better explanation. \n",
    "\n",
    "*(note - there is a chance that a random chunk consists of both left and right sides of `end_of_document` token, which is not perfect, but when we have long documents like novels, these are negligible)*."
   ]
  },
  {
   "cell_type": "code",
   "execution_count": 4,
   "id": "2e2ece75",
   "metadata": {
    "execution": {
     "iopub.execute_input": "2025-05-08T11:49:06.475419Z",
     "iopub.status.busy": "2025-05-08T11:49:06.474867Z",
     "iopub.status.idle": "2025-05-08T11:49:20.843570Z",
     "shell.execute_reply": "2025-05-08T11:49:20.841962Z"
    },
    "papermill": {
     "duration": 14.378172,
     "end_time": "2025-05-08T11:49:20.845788",
     "exception": false,
     "start_time": "2025-05-08T11:49:06.467616",
     "status": "completed"
    },
    "tags": []
   },
   "outputs": [
    {
     "data": {
      "application/vnd.jupyter.widget-view+json": {
       "model_id": "2383ed68d4b042d28e0a00d529a192e0",
       "version_major": 2,
       "version_minor": 0
      },
      "text/plain": [
       "tokenizer_config.json:   0%|          | 0.00/26.0 [00:00<?, ?B/s]"
      ]
     },
     "metadata": {},
     "output_type": "display_data"
    },
    {
     "data": {
      "application/vnd.jupyter.widget-view+json": {
       "model_id": "a2c6f5b0fc5840bd8ede7f6851614ef1",
       "version_major": 2,
       "version_minor": 0
      },
      "text/plain": [
       "vocab.json:   0%|          | 0.00/1.04M [00:00<?, ?B/s]"
      ]
     },
     "metadata": {},
     "output_type": "display_data"
    },
    {
     "data": {
      "application/vnd.jupyter.widget-view+json": {
       "model_id": "eb56dd052e6d4ffdb784223cbb18ece6",
       "version_major": 2,
       "version_minor": 0
      },
      "text/plain": [
       "merges.txt:   0%|          | 0.00/456k [00:00<?, ?B/s]"
      ]
     },
     "metadata": {},
     "output_type": "display_data"
    },
    {
     "data": {
      "application/vnd.jupyter.widget-view+json": {
       "model_id": "f127be41719b4e06bb2b5d1d43832437",
       "version_major": 2,
       "version_minor": 0
      },
      "text/plain": [
       "tokenizer.json:   0%|          | 0.00/1.36M [00:00<?, ?B/s]"
      ]
     },
     "metadata": {},
     "output_type": "display_data"
    },
    {
     "data": {
      "application/vnd.jupyter.widget-view+json": {
       "model_id": "3203c4b86d0b4340b9e32e7dd5cbbe37",
       "version_major": 2,
       "version_minor": 0
      },
      "text/plain": [
       "config.json:   0%|          | 0.00/665 [00:00<?, ?B/s]"
      ]
     },
     "metadata": {},
     "output_type": "display_data"
    },
    {
     "name": "stdout",
     "output_type": "stream",
     "text": [
      "end of document token:  [50256]\n",
      "\n",
      "tokens: \n",
      " [43921, 743, 307, 973, 19888, 287, 262, 4732, 286, 257, 366, 23149, 4610, 1, 543, 318, 35294, 290, 1729, 12, 24498, 11, 393, 12145, 2280, 355, 366, 1169, 1242, 393, 3783, 286, 1230, 1600, 475, 262, 1573, 1690, 635, 10732, 257, 4633, 369, 38983, 13, 383, 3721, 468, 587, 5447, 287, 2972, 2842, 11, 290, 1180, 10581, 423, 17640, 28742, 5009, 319, 1771, 340, 815, 307, 973, 20823, 393, 287, 257, 3614, 835, 11, 18097, 1146, 393, 2593, 9404, 11, 290, 319, 1771, 5358, 393, 763, 12, 27184, 318, 517, 6393, 284, 340, 13, 50256, 41183, 318, 262, 11478, 286, 3725, 290, 4678, 290, 262, 2478, 286, 2095, 12796, 13, 5178, 282, 3707, 8833, 1626, 257, 20793, 15855, 9355, 11, 884, 355, 1171, 4266, 11, 1708, 257, 20583, 13, 8504, 12, 687, 282, 3707, 635, 5679, 257, 20793, 3164, 475, 8833, 2354, 262, 8766, 36946, 1080, 11, 981, 22176, 3707, 9018, 555, 7249, 1522, 4673, 832, 4445, 6461, 13, 5178, 282, 290, 1729, 12, 687, 282, 3707, 389, 37661, 656, 2974, 11, 1390, 1903, 9963, 3707, 11, 4165, 3707, 11, 9233, 3707, 11, 290, 48358, 8042, 3707, 13, 3819, 1398, 6637, 2962, 319, 7743, 5050, 11, 884, 355, 4701, 12, 38050, 290, 3710, 12, 38050, 3707, 11, 290, 319, 7481, 11, 884, 355, 3783, 3707, 11, 3303, 3707, 11, 290, 3518, 3707, 13, 12032, 11, 262, 3381, 366, 40796, 1, 460, 42685, 262, 5110, 2585, 290, 14482, 286, 15657, 3925, 290, 262, 8233, 2214, 11065, 9856, 19428, 13]\n",
      "\n",
      "A selected batch: \n",
      " [[ 1690   635 10732   257  4633   369]\n",
      " [  290 14482   286 15657  3925   290]\n",
      " [ 8833  2354   262  8766 36946  1080]\n",
      " [  835    11 18097  1146   393  2593]]\n"
     ]
    }
   ],
   "source": [
    "# Keeping only those documents which are long enough i.e. >10 words\n",
    "paragraphs = [p for p in paragraphs if len(p.split())>10]\n",
    "\n",
    "# Streamimg data with end_of_document token (for GPT2 this token is <|endoftext|>)\n",
    "texts = '<|endoftext|>'.join(paragraphs)\n",
    "\n",
    "# Tokenizing\n",
    "from transformers import GPT2Tokenizer\n",
    "tokenizer = GPT2Tokenizer.from_pretrained(\"gpt2\", progress_bar = False)\n",
    "print('end of document token: ', tokenizer.encode('<|endoftext|>'))\n",
    "tokens = tokenizer.encode(texts)\n",
    "print(\"\\ntokens: \\n\", tokens)\n",
    "\n",
    "# Selecting random chunks of size 6 in a batch of 4\n",
    "import numpy as np\n",
    "np.random.seed(1)\n",
    "B = 4\n",
    "T = 6\n",
    "x = list()\n",
    "for _ in range(B):\n",
    "    start_position = np.random.randint(0, len(tokens) - T)\n",
    "    x.append(tokens[start_position : start_position + T])\n",
    "print(\"\\nA selected batch: \\n\", np.array(x))"
   ]
  },
  {
   "cell_type": "markdown",
   "id": "e758dd22",
   "metadata": {
    "papermill": {
     "duration": 0.005741,
     "end_time": "2025-05-08T11:49:20.858453",
     "exception": false,
     "start_time": "2025-05-08T11:49:20.852712",
     "status": "completed"
    },
    "tags": []
   },
   "source": [
    "Since we excluded the short document, we are left with only 2 documets joined with end of document token 50256. Then we pick 4 sequences with random starting points from this long stream of tokens.\n",
    "\n",
    "Here, we used pre-configured GPT2 tokenizer which has a vocabulary of >50K sub-words mapped to integers. For the further understanding of the model, we will consider a randomly generated input sequence with only 100 vocabulary items. So the token ids will span from 0 to 99. If we are able to finally generate tokens within 0-99, then we can be sure that the i/o is setup correctly. Let's get into it."
   ]
  },
  {
   "cell_type": "markdown",
   "id": "8e4cb74d",
   "metadata": {
    "papermill": {
     "duration": 0.005813,
     "end_time": "2025-05-08T11:49:20.870609",
     "exception": false,
     "start_time": "2025-05-08T11:49:20.864796",
     "status": "completed"
    },
    "tags": []
   },
   "source": [
    "### Embedding - First Forward Pass\n",
    "\n",
    "Suppose we have a batch of sequences selected as $X^{B \\times T}$ "
   ]
  },
  {
   "cell_type": "code",
   "execution_count": 5,
   "id": "a4923428",
   "metadata": {
    "execution": {
     "iopub.execute_input": "2025-05-08T11:49:20.884795Z",
     "iopub.status.busy": "2025-05-08T11:49:20.884179Z",
     "iopub.status.idle": "2025-05-08T11:49:20.892848Z",
     "shell.execute_reply": "2025-05-08T11:49:20.891735Z"
    },
    "papermill": {
     "duration": 0.01849,
     "end_time": "2025-05-08T11:49:20.895104",
     "exception": false,
     "start_time": "2025-05-08T11:49:20.876614",
     "status": "completed"
    },
    "tags": []
   },
   "outputs": [
    {
     "data": {
      "text/plain": [
       "array([[37, 12, 72,  9, 75,  5],\n",
       "       [79, 64, 16,  1, 76, 71],\n",
       "       [ 6, 25, 50, 20, 18, 84],\n",
       "       [11, 28, 29, 14, 50, 68]])"
      ]
     },
     "execution_count": 5,
     "metadata": {},
     "output_type": "execute_result"
    }
   ],
   "source": [
    "import numpy as np\n",
    "np.random.seed(1)\n",
    "\n",
    "B = 4\n",
    "T = 6\n",
    "V = 100\n",
    "\n",
    "# Suppose this is a batch of sequences randomly picked from the whole sequence\n",
    "x = np.random.randint(0, V-1, (B, T))\n",
    "x"
   ]
  },
  {
   "cell_type": "markdown",
   "id": "574aace2",
   "metadata": {
    "papermill": {
     "duration": 0.006262,
     "end_time": "2025-05-08T11:49:20.908253",
     "exception": false,
     "start_time": "2025-05-08T11:49:20.901991",
     "status": "completed"
    },
    "tags": []
   },
   "source": [
    "### Token Embedding: \n",
    "\n",
    "Before putting it into Transformer, we shall pass it through an embedding lookup. This lookup helps to create a floating-point representation of integer indices.\n",
    "\n",
    "Each of the integer 0-99 in the vocabulary are associated with a row in the embedding table. When we get token 0, the first row will be plucked, when we get token 4, the 5th row will be plucked, and so on.\n",
    "\n",
    "$E^{V \\times C}$ is the token embedding table,where \n",
    "\n",
    "$V$:vocabulary size 100\n",
    "\n",
    "$C$:Embedding dimension 10 \n",
    "\n",
    "The result of applying embedding is a $(B \\times T \\times C)$ matrix because we pluck the $C$ dimensional embedding row for each of the $T$ tokens in each of the $B$ sequences in a batch.\n",
    "\n",
    "Result: Embedded ${X\\_tok\\_embed}^{B \\times T \\times C}$\n",
    "\n",
    "The elements of E are trainable and hence will participate in back-propagation. We train these so that the floating-point representation becomes highly clustered i.e. similar words get similar embedding vector."
   ]
  },
  {
   "cell_type": "code",
   "execution_count": 6,
   "id": "a21ebe57",
   "metadata": {
    "execution": {
     "iopub.execute_input": "2025-05-08T11:49:20.922764Z",
     "iopub.status.busy": "2025-05-08T11:49:20.922420Z",
     "iopub.status.idle": "2025-05-08T11:49:20.929687Z",
     "shell.execute_reply": "2025-05-08T11:49:20.928323Z"
    },
    "papermill": {
     "duration": 0.017328,
     "end_time": "2025-05-08T11:49:20.931930",
     "exception": false,
     "start_time": "2025-05-08T11:49:20.914602",
     "status": "completed"
    },
    "tags": []
   },
   "outputs": [
    {
     "name": "stdout",
     "output_type": "stream",
     "text": [
      "E.shape:  (100, 10)\n",
      "x_tok_embed.shape:  (4, 6, 10)\n"
     ]
    }
   ],
   "source": [
    "# Token Embedding (but not trainable because it's not a tensor with grad)\n",
    "np.random.seed(2)\n",
    "C = 10\n",
    "E = np.random.rand(V, C)\n",
    "print(\"E.shape: \", E.shape)\n",
    "\n",
    "# Looking up the embedding\n",
    "x_tok_embed = E[x]\n",
    "print(\"x_tok_embed.shape: \", x_tok_embed.shape)"
   ]
  },
  {
   "cell_type": "markdown",
   "id": "0441cf91",
   "metadata": {
    "papermill": {
     "duration": 0.006287,
     "end_time": "2025-05-08T11:49:20.944871",
     "exception": false,
     "start_time": "2025-05-08T11:49:20.938584",
     "status": "completed"
    },
    "tags": []
   },
   "source": [
    "### Positional Embedding: \n",
    "\n",
    "Although we keep maintaining the order of tokens in the sequence, when we input it into Transformer, it does not consider that order. A sequence is treated as a bag of words, only positional relations given by attention mask, but they dont say which one is first word, which one is second word and so on. \n",
    "\n",
    "That is why we need to explicitly put a representation of the order of those embedded elements. We simply initialize another embedding lookup table P having T x C elements.\n",
    "\n",
    "$X\\_pos$: Positions\n",
    "\n",
    "$P^{T \\times C}$ is the positional embedding table,where \n",
    "\n",
    "$T$:context length 6\n",
    "\n",
    "$C$:Embedding dimension 10 \n",
    "\n",
    "Result: Embedded $X\\_pos\\_embed^ {B \\times T \\times C}$\n",
    "\n",
    "Same way, the elements of P are trainable when we initialize them as tensors rather than numpy arrays.\n",
    "\n",
    "*Note: In the transformer paper, which relates to translation task, these are not taken as embeddings, rather a smooth sinusoidal function.*"
   ]
  },
  {
   "cell_type": "code",
   "execution_count": 7,
   "id": "5564ba71",
   "metadata": {
    "execution": {
     "iopub.execute_input": "2025-05-08T11:49:20.959966Z",
     "iopub.status.busy": "2025-05-08T11:49:20.959582Z",
     "iopub.status.idle": "2025-05-08T11:49:20.967401Z",
     "shell.execute_reply": "2025-05-08T11:49:20.966220Z"
    },
    "papermill": {
     "duration": 0.017283,
     "end_time": "2025-05-08T11:49:20.969301",
     "exception": false,
     "start_time": "2025-05-08T11:49:20.952018",
     "status": "completed"
    },
    "tags": []
   },
   "outputs": [
    {
     "name": "stdout",
     "output_type": "stream",
     "text": [
      "P.shape:  (6, 10)\n",
      "\n",
      "X positions: \n",
      " [[0 1 2 3 4 5]\n",
      " [0 1 2 3 4 5]\n",
      " [0 1 2 3 4 5]\n",
      " [0 1 2 3 4 5]]\n",
      "\n",
      "x_pos_embed.shape:  (4, 6, 10)\n"
     ]
    }
   ],
   "source": [
    "# Positional Embedding (but not trainable because it's not a tensor with grad)\n",
    "np.random.seed(3)\n",
    "P = np.random.rand(T, C)\n",
    "print(\"P.shape: \", P.shape)\n",
    "\n",
    "# Creating matrix of same shape with position numbers, skipping the pads\n",
    "col_indices = np.arange(x.shape[1])\n",
    "x_pos = np.vstack([col_indices]*B)\n",
    "print(\"\\nX positions: \\n\", x_pos)\n",
    "\n",
    "# Looking up the embedding\n",
    "x_pos_embed = P[x_pos]\n",
    "print(\"\\nx_pos_embed.shape: \", x_pos_embed.shape)"
   ]
  },
  {
   "cell_type": "markdown",
   "id": "759b0f9c",
   "metadata": {
    "papermill": {
     "duration": 0.00651,
     "end_time": "2025-05-08T11:49:20.982781",
     "exception": false,
     "start_time": "2025-05-08T11:49:20.976271",
     "status": "completed"
    },
    "tags": []
   },
   "source": [
    "### Final Embeddings:\n",
    "\n",
    "We then add the token embeddings and positional embeddings and save it as $X\\_embed^{B \\times T \\times C}$"
   ]
  },
  {
   "cell_type": "code",
   "execution_count": 8,
   "id": "0f0f7567",
   "metadata": {
    "execution": {
     "iopub.execute_input": "2025-05-08T11:49:20.997298Z",
     "iopub.status.busy": "2025-05-08T11:49:20.996954Z",
     "iopub.status.idle": "2025-05-08T11:49:21.002049Z",
     "shell.execute_reply": "2025-05-08T11:49:21.000738Z"
    },
    "papermill": {
     "duration": 0.015001,
     "end_time": "2025-05-08T11:49:21.004314",
     "exception": false,
     "start_time": "2025-05-08T11:49:20.989313",
     "status": "completed"
    },
    "tags": []
   },
   "outputs": [],
   "source": [
    "x_embed = x_tok_embed + x_pos_embed"
   ]
  },
  {
   "cell_type": "markdown",
   "id": "33420482",
   "metadata": {
    "papermill": {
     "duration": 0.006251,
     "end_time": "2025-05-08T11:49:21.018269",
     "exception": false,
     "start_time": "2025-05-08T11:49:21.012018",
     "status": "completed"
    },
    "tags": []
   },
   "source": [
    "### Overall Model Architecture\n",
    "\n",
    "This GPT model is designed to be trained with predictor $X[:,:-1]$ i.e. all except last token in the sequence, vs target as $X[:,:1:]$ i.e. all except first token in the sequence. So, each token is trained to predict its next token. This is why our time dimension reduces from $T$ to $(T-1)$\n",
    "\n",
    "In a forward pass, we shall be passing the $X[:,:-1]$ i.e. all except last token, through multiple transformer decoder layers. This returns $B \\times (T-1) \\times C$ logits. We just assume this in part1 and learn this in part2.\n",
    "\n",
    "Also, for simplicity of syntax, let's call $t = T - 1$."
   ]
  },
  {
   "attachments": {
    "34d7b9df-9b81-487b-a71b-409e6d3ad5ba.png": {
     "image/png": "[encoded data removed]"
    }
   },
   "cell_type": "markdown",
   "id": "96d1c9c5",
   "metadata": {
    "papermill": {
     "duration": 0.006186,
     "end_time": "2025-05-08T11:49:21.030948",
     "exception": false,
     "start_time": "2025-05-08T11:49:21.024762",
     "status": "completed"
    },
    "tags": []
   },
   "source": [
    "![image.png](attachment:34d7b9df-9b81-487b-a71b-409e6d3ad5ba.png)"
   ]
  },
  {
   "cell_type": "markdown",
   "id": "173d0ca2",
   "metadata": {
    "papermill": {
     "duration": 0.006214,
     "end_time": "2025-05-08T11:49:21.043563",
     "exception": false,
     "start_time": "2025-05-08T11:49:21.037349",
     "status": "completed"
    },
    "tags": []
   },
   "source": [
    "Let us now rewrite using torch class because the further coding is dififcult if written in numpy.\n",
    "* the embeddings using `torch.nn.Embedding()`\n",
    "* a dummy operation (placeholder) in place of Blocks which is just division by 2\n",
    "* a simple 1 layer feedforward LM Head using `nn.Linear()`\n",
    "\n",
    "As mentioned earlier, we are skipping dropout and layer normalization from this document."
   ]
  },
  {
   "cell_type": "code",
   "execution_count": 9,
   "id": "2eb54d81",
   "metadata": {
    "execution": {
     "iopub.execute_input": "2025-05-08T11:49:21.058504Z",
     "iopub.status.busy": "2025-05-08T11:49:21.058092Z",
     "iopub.status.idle": "2025-05-08T11:49:21.237856Z",
     "shell.execute_reply": "2025-05-08T11:49:21.236482Z"
    },
    "papermill": {
     "duration": 0.189677,
     "end_time": "2025-05-08T11:49:21.240041",
     "exception": false,
     "start_time": "2025-05-08T11:49:21.050364",
     "status": "completed"
    },
    "tags": []
   },
   "outputs": [
    {
     "name": "stdout",
     "output_type": "stream",
     "text": [
      "x_raw_logits.shape:  torch.Size([4, 5, 100])\n",
      "\n",
      "Sum of raw logits of first token in the first sequence: \n",
      " tensor(-3.1362, grad_fn=<SumBackward0>)\n"
     ]
    }
   ],
   "source": [
    "import torch\n",
    "import torch.nn as nn\n",
    "\n",
    "x = torch.from_numpy(x)\n",
    "inputs = x[:,:-1] # predictor sequences\n",
    "targets = x[:,1:] # predictable sequences\n",
    "\n",
    "###################################################################################\n",
    "\n",
    "class GPTLanguageModel(nn.Module):\n",
    "    \n",
    "    def __init__(self):\n",
    "        super().__init__()\n",
    "        # Creating instance of required torch nn classes\n",
    "        self.token_embedding_table = nn.Embedding(V, C)\n",
    "        self.position_embedding_table = nn.Embedding(T-1, C)\n",
    "        self.lm_head = nn.Linear(C, V)\n",
    "\n",
    "    def forward(self, idx):\n",
    "        B, t = idx.shape\n",
    "        x_tok_embed = self.token_embedding_table(idx)\n",
    "        x_pos_embed = self.position_embedding_table(torch.arange(t))\n",
    "        x_embed = x_tok_embed + x_pos_embed\n",
    "        x_t_out = x_embed / 2 # PLACEHOLDER FOR TRANSFORMER BLOCKS\n",
    "        x_raw_logits = self.lm_head(x_t_out)\n",
    "        \n",
    "        return x_raw_logits\n",
    "\n",
    "###################################################################################\n",
    "\n",
    "# Call instance of our model class\n",
    "model = GPTLanguageModel()\n",
    "\n",
    "# Pass predictor sequence through the model\n",
    "x_raw_logits = model(idx = inputs)\n",
    "\n",
    "print(\"x_raw_logits.shape: \", x_raw_logits.shape)\n",
    "print(\"\\nSum of raw logits of first token in the first sequence: \\n\", torch.sum(x_raw_logits[0,0,:]))"
   ]
  },
  {
   "cell_type": "markdown",
   "id": "97c7752d",
   "metadata": {
    "papermill": {
     "duration": 0.006693,
     "end_time": "2025-05-08T11:49:21.253701",
     "exception": false,
     "start_time": "2025-05-08T11:49:21.247008",
     "status": "completed"
    },
    "tags": []
   },
   "source": [
    "The very last LM Head is designed to convert $B \\times t \\times C$ logits to $B \\times t \\times V$ logits so that it can correspnd to $V$ vocabulary items.\n",
    "\n",
    "For a well trained model output, each $V$ dimensional logit vector should have high values for only those vocabulary items which produce contextually similar text. However, it doesn't necessarily sum to 1. To get a probability it needs to sum to 1 across the vocabulary dimension so that we know what is the probability of a token being similar to each of the 100 possible tokens.\n",
    "\n",
    "If we apply softmax across the vocab dimension, we can get the most probable vocabulary item."
   ]
  },
  {
   "cell_type": "code",
   "execution_count": 10,
   "id": "e8ec4450",
   "metadata": {
    "execution": {
     "iopub.execute_input": "2025-05-08T11:49:21.269831Z",
     "iopub.status.busy": "2025-05-08T11:49:21.269313Z",
     "iopub.status.idle": "2025-05-08T11:49:21.282692Z",
     "shell.execute_reply": "2025-05-08T11:49:21.281609Z"
    },
    "papermill": {
     "duration": 0.024228,
     "end_time": "2025-05-08T11:49:21.284609",
     "exception": false,
     "start_time": "2025-05-08T11:49:21.260381",
     "status": "completed"
    },
    "tags": []
   },
   "outputs": [
    {
     "name": "stdout",
     "output_type": "stream",
     "text": [
      "Sum of softmax logits of first token in the first sequence as probability:\n",
      " tensor(1.0000, grad_fn=<SumBackward0>)\n"
     ]
    }
   ],
   "source": [
    "x_logits = torch.softmax(x_raw_logits, axis=2)\n",
    "print(\"Sum of softmax logits of first token in the first sequence as probability:\\n\", torch.sum(x_logits[0,0,:]))"
   ]
  },
  {
   "cell_type": "markdown",
   "id": "fa10a39e",
   "metadata": {
    "papermill": {
     "duration": 0.007386,
     "end_time": "2025-05-08T11:49:21.300869",
     "exception": false,
     "start_time": "2025-05-08T11:49:21.293483",
     "status": "completed"
    },
    "tags": []
   },
   "source": [
    "Let's rewrite this by including the softmax conversion in the model class."
   ]
  },
  {
   "cell_type": "code",
   "execution_count": 11,
   "id": "d7072d46",
   "metadata": {
    "execution": {
     "iopub.execute_input": "2025-05-08T11:49:21.315605Z",
     "iopub.status.busy": "2025-05-08T11:49:21.315244Z",
     "iopub.status.idle": "2025-05-08T11:49:21.327735Z",
     "shell.execute_reply": "2025-05-08T11:49:21.326732Z"
    },
    "papermill": {
     "duration": 0.02233,
     "end_time": "2025-05-08T11:49:21.329801",
     "exception": false,
     "start_time": "2025-05-08T11:49:21.307471",
     "status": "completed"
    },
    "tags": []
   },
   "outputs": [
    {
     "name": "stdout",
     "output_type": "stream",
     "text": [
      "x_logits.shape:  torch.Size([4, 5, 100])\n",
      "Sum of softmax logits of first token in the first sequence as probability:\n",
      " tensor(1.0000, grad_fn=<SumBackward0>)\n"
     ]
    }
   ],
   "source": [
    "import torch\n",
    "import torch.nn as nn\n",
    "\n",
    "inputs = x[:,:-1] # predictor sequences\n",
    "targets = x[:,1:] # predictable sequences\n",
    "\n",
    "###################################################################################\n",
    "\n",
    "class GPTLanguageModel(nn.Module):\n",
    "    \n",
    "    def __init__(self):\n",
    "        super().__init__()\n",
    "        \n",
    "        self.token_embedding_table = nn.Embedding(V, C)\n",
    "        self.position_embedding_table = nn.Embedding(T-1, C)\n",
    "        self.lm_head = nn.Linear(C, V)\n",
    "\n",
    "    def forward(self, idx):\n",
    "        B, t = idx.shape\n",
    "        x_tok_embed = self.token_embedding_table(idx)\n",
    "        x_pos_embed = self.position_embedding_table(torch.arange(t))\n",
    "        x_embed = x_tok_embed + x_pos_embed\n",
    "        x_t_out = x_embed / 2\n",
    "        x_raw_logits = self.lm_head(x_t_out)\n",
    "        x_logits = torch.softmax(x_raw_logits, axis=2) ##### MODIFICATION AFTER ABOVE CELL\n",
    "        \n",
    "        return x_logits\n",
    "\n",
    "###################################################################################\n",
    "\n",
    "# Call instance of our model class\n",
    "model = GPTLanguageModel()\n",
    "\n",
    "# Pass predictor sequence through the model\n",
    "x_logits = model(idx = inputs)\n",
    "\n",
    "print(\"x_logits.shape: \", x_logits.shape)\n",
    "print(\"Sum of softmax logits of first token in the first sequence as probability:\\n\", torch.sum(x_logits[0,0,:]))"
   ]
  },
  {
   "cell_type": "markdown",
   "id": "63375bc5",
   "metadata": {
    "papermill": {
     "duration": 0.006338,
     "end_time": "2025-05-08T11:49:21.343092",
     "exception": false,
     "start_time": "2025-05-08T11:49:21.336754",
     "status": "completed"
    },
    "tags": []
   },
   "source": [
    "### Targets and loss\n",
    "\n",
    "We have been passing only the predictor sequence in this model, whereas during training, it needs to pass both predictor sequence and predictable sequence, so that the model can compute loss in predicting the predictable sequence given the predictor sequence.\n",
    "\n",
    "Let's rewrite the model class by including this."
   ]
  },
  {
   "cell_type": "code",
   "execution_count": 12,
   "id": "e4a45d9a",
   "metadata": {
    "execution": {
     "iopub.execute_input": "2025-05-08T11:49:21.357631Z",
     "iopub.status.busy": "2025-05-08T11:49:21.357318Z",
     "iopub.status.idle": "2025-05-08T11:49:21.380036Z",
     "shell.execute_reply": "2025-05-08T11:49:21.379018Z"
    },
    "papermill": {
     "duration": 0.031869,
     "end_time": "2025-05-08T11:49:21.381842",
     "exception": false,
     "start_time": "2025-05-08T11:49:21.349973",
     "status": "completed"
    },
    "tags": []
   },
   "outputs": [
    {
     "name": "stdout",
     "output_type": "stream",
     "text": [
      "x_logits.shape:  torch.Size([4, 5, 100])\n",
      "\n",
      "Sum of softmax logits of first token in the first sequence as probability:\n",
      " tensor(1., grad_fn=<SumBackward0>)\n",
      "\n",
      "loss:  tensor(4.6055, grad_fn=<NllLossBackward0>)\n"
     ]
    }
   ],
   "source": [
    "import torch\n",
    "import torch.nn as nn\n",
    "\n",
    "inputs = x[:,:-1] # predictor sequences\n",
    "targets = x[:,1:] # predictable sequences\n",
    "\n",
    "###########################################################################\n",
    "\n",
    "class GPTLanguageModel(nn.Module):\n",
    "    \n",
    "    def __init__(self):\n",
    "        super().__init__()\n",
    "        \n",
    "        self.token_embedding_table = nn.Embedding(V, C)\n",
    "        self.position_embedding_table = nn.Embedding(T-1, C)\n",
    "        self.lm_head = nn.Linear(C, V)\n",
    "\n",
    "    def forward(self, idx, targets=None): ### MODIFICATION AFTER ABOVE CELL\n",
    "        B, t = idx.shape\n",
    "        x_tok_embed = self.token_embedding_table(idx)\n",
    "        x_pos_embed = self.position_embedding_table(torch.arange(t))\n",
    "        x_embed = x_tok_embed + x_pos_embed\n",
    "        x_t_out = x_embed / 2\n",
    "        x_raw_logits = self.lm_head(x_t_out)\n",
    "        x_logits = torch.softmax(x_raw_logits, axis=2)\n",
    "\n",
    "        ###### MODIFICATION AFTER ABOVE CELL #######\n",
    "        if targets is None:\n",
    "            loss = None\n",
    "        else:\n",
    "            B, t, C = x_logits.shape\n",
    "            logits = x_logits.view(B*t, C)\n",
    "            targets = targets.contiguous().view(B*t) # When we pick targets in a batch, it will be contiguous by default\n",
    "            loss = nn.functional.cross_entropy(logits, targets) # The error in predicting 'targets' sequence given 'inputs' sequence\n",
    "        #############################################\n",
    "\n",
    "        return x_logits, loss\n",
    "\n",
    "###################################################################################\n",
    "\n",
    "# Call instance of our model class\n",
    "model = GPTLanguageModel()\n",
    "\n",
    "# Pass predictor sequence through the model\n",
    "x_logits, loss = model(idx = inputs, targets = targets)\n",
    "\n",
    "print(\"x_logits.shape: \", x_logits.shape)\n",
    "print(\"\\nSum of softmax logits of first token in the first sequence as probability:\\n\", torch.sum(x_logits[0,0,:]))\n",
    "print(\"\\nloss: \", loss)"
   ]
  },
  {
   "cell_type": "markdown",
   "id": "63238d78",
   "metadata": {
    "papermill": {
     "duration": 0.006757,
     "end_time": "2025-05-08T11:49:21.396922",
     "exception": false,
     "start_time": "2025-05-08T11:49:21.390165",
     "status": "completed"
    },
    "tags": []
   },
   "source": [
    "### Inference/ Generation\n",
    "\n",
    "After we train this model, we can expect that, given `inputs x[:,:-1]`, the model would provide reliable probabilities for what the subsequent sequence i.e. `targets x[:,1:]` should be. So, if this is inputs `[\"I\", \"need\", \"my\"]`, we can expect that these should be most probable outputs `[\"need\", \"my\", \"book\"]`. That is, for each 3 tokens we get a vector of 100 probabilities corresponding to 100 vocabulary items, as per the token ids as we formed the `Embedding()`. The vector for first token has highest probabilty for `\"need\"`, same for second is `\"my\"`. Ofcourse we dont need `[\"need\", \"my\", \"book\"]` to be generated, rather only `\"book\"` needs to be generated."
   ]
  },
  {
   "cell_type": "code",
   "execution_count": 13,
   "id": "60cadfdd",
   "metadata": {
    "execution": {
     "iopub.execute_input": "2025-05-08T11:49:21.412476Z",
     "iopub.status.busy": "2025-05-08T11:49:21.412114Z",
     "iopub.status.idle": "2025-05-08T11:49:21.432725Z",
     "shell.execute_reply": "2025-05-08T11:49:21.431480Z"
    },
    "papermill": {
     "duration": 0.030755,
     "end_time": "2025-05-08T11:49:21.434822",
     "exception": false,
     "start_time": "2025-05-08T11:49:21.404067",
     "status": "completed"
    },
    "tags": []
   },
   "outputs": [
    {
     "name": "stdout",
     "output_type": "stream",
     "text": [
      "Here are the sequences with 10 next tokens predicted\n",
      "\n",
      " tensor([[37, 12, 72,  9, 75,  5,  6, 47, 45, 42, 87, 47, 45, 42, 87, 47],\n",
      "        [79, 64, 16,  1, 76, 71, 45, 42, 87, 47, 45, 42, 87, 47, 45, 42],\n",
      "        [ 6, 25, 50, 20, 18, 84, 47, 45, 42, 87, 47, 45, 42, 87, 47, 45],\n",
      "        [11, 28, 29, 14, 50, 68, 45, 42, 87, 47, 45, 42, 87, 47, 45, 42]])\n"
     ]
    }
   ],
   "source": [
    "output_tokens = 10 # How many new tokens need to be generated\n",
    "\n",
    "result = x # Setting a counter for repeated model pass\n",
    "\n",
    "for i in range(output_tokens):\n",
    "\n",
    "    new_inputs = result[:, -(T-1):]\n",
    "    x_logits, _ = model(idx = new_inputs, targets = None)\n",
    "    next_token_probability = x_logits[:,-1,:] # because we only need to generate last token\n",
    "    predicted_next_token = torch.argmax(next_token_probability, axis = 1)\n",
    "    result = torch.cat((result, predicted_next_token.unsqueeze(1)), dim=1)\n",
    "\n",
    "print(\"Here are the sequences with {} next tokens predicted\\n\\n\".format(output_tokens), \n",
    "      result)"
   ]
  },
  {
   "cell_type": "markdown",
   "id": "ba01b57f",
   "metadata": {
    "papermill": {
     "duration": 0.006939,
     "end_time": "2025-05-08T11:49:21.449101",
     "exception": false,
     "start_time": "2025-05-08T11:49:21.442162",
     "status": "completed"
    },
    "tags": []
   },
   "source": [
    "Now we can just decode these integers to respectve tokens to create the string sequence. For simplification, we considered an imagnery vocabulary of 100 tokens which is why not able to demonstrate this.\n",
    "\n",
    "The model is not trained with attention yet, so these predicted tokens are not expected to be good. Also, there is high amount of repetition. The repitition can be handled by adding random sampling from `multinomial(next_token_probability)` rather than choosing `argmax(next_token_probability)` and further controlling the randomness with temprature smoothing."
   ]
  },
  {
   "cell_type": "markdown",
   "id": "4680c534",
   "metadata": {
    "papermill": {
     "duration": 0.006621,
     "end_time": "2025-05-08T11:49:21.462594",
     "exception": false,
     "start_time": "2025-05-08T11:49:21.455973",
     "status": "completed"
    },
    "tags": []
   },
   "source": [
    "#### Discussion: Why does it work for inferring on shorter sequence?\n",
    "\n",
    "I always wondered how this can work for a shorter sequence. It works because in the model so far, there is no communication between positions of `inputs`. All the calculations are applied separately for each position of `inputs`. The positional embedding has max `(T - 1)` lookup rows, so a shorter sequence fits."
   ]
  },
  {
   "cell_type": "code",
   "execution_count": 14,
   "id": "35344fdd",
   "metadata": {
    "execution": {
     "iopub.execute_input": "2025-05-08T11:49:21.477686Z",
     "iopub.status.busy": "2025-05-08T11:49:21.477314Z",
     "iopub.status.idle": "2025-05-08T11:49:21.489686Z",
     "shell.execute_reply": "2025-05-08T11:49:21.488717Z"
    },
    "papermill": {
     "duration": 0.022149,
     "end_time": "2025-05-08T11:49:21.491577",
     "exception": false,
     "start_time": "2025-05-08T11:49:21.469428",
     "status": "completed"
    },
    "tags": []
   },
   "outputs": [
    {
     "name": "stdout",
     "output_type": "stream",
     "text": [
      "Input Sequence (Prompt): \n",
      " tensor([[13, 56,  5],\n",
      "        [89, 74, 45],\n",
      "        [24, 37, 46],\n",
      "        [94, 21, 75]])\n",
      "\n",
      "\n",
      "Here are the sequences with 10 next tokens predicted\n",
      " tensor([[13, 56,  5, 27, 58,  6, 47, 45, 42, 87, 47, 45, 42],\n",
      "        [89, 74, 45, 42, 42, 87, 47, 45, 42, 87, 47, 45, 42],\n",
      "        [24, 37, 46, 42, 42, 87, 47, 45, 42, 87, 47, 45, 42],\n",
      "        [94, 21, 75, 27, 58,  6, 47, 45, 42, 87, 47, 45, 42]])\n"
     ]
    }
   ],
   "source": [
    "output_tokens = 10 # How many new tokens need to be generated\n",
    "\n",
    "result = torch.randint(0,99,(4,3))\n",
    "print(\"Input Sequence (Prompt): \\n\", result)\n",
    "\n",
    "for i in range(output_tokens):\n",
    "\n",
    "    new_inputs = result[:, -(T-1):]\n",
    "    x_logits, _ = model(idx = new_inputs, targets = None)\n",
    "    next_token_probability = x_logits[:,-1,:] # because we only need to generate last token\n",
    "    predicted_next_token = torch.argmax(next_token_probability, axis = 1)\n",
    "    result = torch.cat((result, predicted_next_token.unsqueeze(1)), dim=1)\n",
    "\n",
    "print(\"\\n\\nHere are the sequences with {} next tokens predicted\\n\".format(output_tokens), \n",
    "      result)"
   ]
  },
  {
   "cell_type": "markdown",
   "id": "53e45233",
   "metadata": {
    "papermill": {
     "duration": 0.007399,
     "end_time": "2025-05-08T11:49:21.507776",
     "exception": false,
     "start_time": "2025-05-08T11:49:21.500377",
     "status": "completed"
    },
    "tags": []
   },
   "source": [
    "However, attention is supposed to happen across tokens. Let's go through attention is **Part 2** and check why would a shorter sequence work for attention as well."
   ]
  }
 ],
 "metadata": {
  "kaggle": {
   "accelerator": "none",
   "dataSources": [],
   "dockerImageVersionId": 31012,
   "isGpuEnabled": false,
   "isInternetEnabled": true,
   "language": "python",
   "sourceType": "notebook"
  },
  "kernelspec": {
   "display_name": "Python 3",
   "language": "python",
   "name": "python3"
  },
  "language_info": {
   "codemirror_mode": {
    "name": "ipython",
    "version": 3
   },
   "file_extension": ".py",
   "mimetype": "text/x-python",
   "name": "python",
   "nbconvert_exporter": "python",
   "pygments_lexer": "ipython3",
   "version": "3.13.3"
  },
  "papermill": {
   "default_parameters": {},
   "duration": 23.333599,
   "end_time": "2025-05-08T11:49:24.382202",
   "environment_variables": {},
   "exception": null,
   "input_path": "__notebook__.ipynb",
   "output_path": "__notebook__.ipynb",
   "parameters": {},
   "start_time": "2025-05-08T11:49:01.048603",
   "version": "2.6.0"
  },
  "widgets": {
   "application/vnd.jupyter.widget-state+json": {
    "state": {
     "01b0b331296747bc8e8384926d6a7fdb": {
      "model_module": "@jupyter-widgets/controls",
      "model_module_version": "2.0.0",
      "model_name": "HTMLStyleModel",
      "state": {
       "_model_module": "@jupyter-widgets/controls",
       "_model_module_version": "2.0.0",
       "_model_name": "HTMLStyleModel",
       "_view_count": null,
       "_view_module": "@jupyter-widgets/base",
       "_view_module_version": "2.0.0",
       "_view_name": "StyleView",
       "background": null,
       "description_width": "",
       "font_size": null,
       "text_color": null
      }
     },
     "01d617a738ba4d97b6c6c1212d859f95": {
      "model_module": "@jupyter-widgets/controls",
      "model_module_version": "2.0.0",
      "model_name": "HTMLModel",
      "state": {
       "_dom_classes": [],
       "_model_module": "@jupyter-widgets/controls",
       "_model_module_version": "2.0.0",
       "_model_name": "HTMLModel",
       "_view_count": null,
       "_view_module": "@jupyter-widgets/controls",
       "_view_module_version": "2.0.0",
       "_view_name": "HTMLView",
       "description": "",
       "description_allow_html": false,
       "layout": "IPY_MODEL_41bf9fa864f24f1fa12a620ff736a718",
       "placeholder": "​",
       "style": "IPY_MODEL_19f92aacfd3d42fd9f390018546c9f2f",
       "tabbable": null,
       "tooltip": null,
       "value": "tokenizer_config.json: 100%"
      }
     },
     "0a516da5b2894cc2a4c3e373d4813a30": {
      "model_module": "@jupyter-widgets/controls",
      "model_module_version": "2.0.0",
      "model_name": "HTMLModel",
      "state": {
       "_dom_classes": [],
       "_model_module": "@jupyter-widgets/controls",
       "_model_module_version": "2.0.0",
       "_model_name": "HTMLModel",
       "_view_count": null,
       "_view_module": "@jupyter-widgets/controls",
       "_view_module_version": "2.0.0",
       "_view_name": "HTMLView",
       "description": "",
       "description_allow_html": false,
       "layout": "IPY_MODEL_62898fd0a2064092825b8215f61ef54e",
       "placeholder": "​",
       "style": "IPY_MODEL_01b0b331296747bc8e8384926d6a7fdb",
       "tabbable": null,
       "tooltip": null,
       "value": " 456k/456k [00:00&lt;00:00, 2.39MB/s]"
      }
     },
     "0e1da27c90b44791b5efb9f3a11b033c": {
      "model_module": "@jupyter-widgets/base",
      "model_module_version": "2.0.0",
      "model_name": "LayoutModel",
      "state": {
       "_model_module": "@jupyter-widgets/base",
       "_model_module_version": "2.0.0",
       "_model_name": "LayoutModel",
       "_view_count": null,
       "_view_module": "@jupyter-widgets/base",
       "_view_module_version": "2.0.0",
       "_view_name": "LayoutView",
       "align_content": null,
       "align_items": null,
       "align_self": null,
       "border_bottom": null,
       "border_left": null,
       "border_right": null,
       "border_top": null,
       "bottom": null,
       "display": null,
       "flex": null,
       "flex_flow": null,
       "grid_area": null,
       "grid_auto_columns": null,
       "grid_auto_flow": null,
       "grid_auto_rows": null,
       "grid_column": null,
       "grid_gap": null,
       "grid_row": null,
       "grid_template_areas": null,
       "grid_template_columns": null,
       "grid_template_rows": null,
       "height": null,
       "justify_content": null,
       "justify_items": null,
       "left": null,
       "margin": null,
       "max_height": null,
       "max_width": null,
       "min_height": null,
       "min_width": null,
       "object_fit": null,
       "object_position": null,
       "order": null,
       "overflow": null,
       "padding": null,
       "right": null,
       "top": null,
       "visibility": null,
       "width": null
      }
     },
     "1081fb8621de48e59555abdaf445e30d": {
      "model_module": "@jupyter-widgets/controls",
      "model_module_version": "2.0.0",
      "model_name": "HTMLModel",
      "state": {
       "_dom_classes": [],
       "_model_module": "@jupyter-widgets/controls",
       "_model_module_version": "2.0.0",
       "_model_name": "HTMLModel",
       "_view_count": null,
       "_view_module": "@jupyter-widgets/controls",
       "_view_module_version": "2.0.0",
       "_view_name": "HTMLView",
       "description": "",
       "description_allow_html": false,
       "layout": "IPY_MODEL_2f796d808d184bf0bf0c107c7ad760c5",
       "placeholder": "​",
       "style": "IPY_MODEL_9b71cbb2d1af4a45855ebf72540d39bc",
       "tabbable": null,
       "tooltip": null,
       "value": " 1.36M/1.36M [00:00&lt;00:00, 10.2MB/s]"
      }
     },
     "10afe5b2fce742f385fdd8130405a51e": {
      "model_module": "@jupyter-widgets/base",
      "model_module_version": "2.0.0",
      "model_name": "LayoutModel",
      "state": {
       "_model_module": "@jupyter-widgets/base",
       "_model_module_version": "2.0.0",
       "_model_name": "LayoutModel",
       "_view_count": null,
       "_view_module": "@jupyter-widgets/base",
       "_view_module_version": "2.0.0",
       "_view_name": "LayoutView",
       "align_content": null,
       "align_items": null,
       "align_self": null,
       "border_bottom": null,
       "border_left": null,
       "border_right": null,
       "border_top": null,
       "bottom": null,
       "display": null,
       "flex": null,
       "flex_flow": null,
       "grid_area": null,
       "grid_auto_columns": null,
       "grid_auto_flow": null,
       "grid_auto_rows": null,
       "grid_column": null,
       "grid_gap": null,
       "grid_row": null,
       "grid_template_areas": null,
       "grid_template_columns": null,
       "grid_template_rows": null,
       "height": null,
       "justify_content": null,
       "justify_items": null,
       "left": null,
       "margin": null,
       "max_height": null,
       "max_width": null,
       "min_height": null,
       "min_width": null,
       "object_fit": null,
       "object_position": null,
       "order": null,
       "overflow": null,
       "padding": null,
       "right": null,
       "top": null,
       "visibility": null,
       "width": null
      }
     },
     "19f92aacfd3d42fd9f390018546c9f2f": {
      "model_module": "@jupyter-widgets/controls",
      "model_module_version": "2.0.0",
      "model_name": "HTMLStyleModel",
      "state": {
       "_model_module": "@jupyter-widgets/controls",
       "_model_module_version": "2.0.0",
       "_model_name": "HTMLStyleModel",
       "_view_count": null,
       "_view_module": "@jupyter-widgets/base",
       "_view_module_version": "2.0.0",
       "_view_name": "StyleView",
       "background": null,
       "description_width": "",
       "font_size": null,
       "text_color": null
      }
     },
     "20718c4a6ce44acc85ca0ca8a2f7fd08": {
      "model_module": "@jupyter-widgets/controls",
      "model_module_version": "2.0.0",
      "model_name": "FloatProgressModel",
      "state": {
       "_dom_classes": [],
       "_model_module": "@jupyter-widgets/controls",
       "_model_module_version": "2.0.0",
       "_model_name": "FloatProgressModel",
       "_view_count": null,
       "_view_module": "@jupyter-widgets/controls",
       "_view_module_version": "2.0.0",
       "_view_name": "ProgressView",
       "bar_style": "success",
       "description": "",
       "description_allow_html": false,
       "layout": "IPY_MODEL_7a6ee27914e74d968580b9bea422df72",
       "max": 26,
       "min": 0,
       "orientation": "horizontal",
       "style": "IPY_MODEL_747f2c4f8c2d4944af261bb033950656",
       "tabbable": null,
       "tooltip": null,
       "value": 26
      }
     },
     "23ff5218151e4d5b988c43a63ef39f7d": {
      "model_module": "@jupyter-widgets/base",
      "model_module_version": "2.0.0",
      "model_name": "LayoutModel",
      "state": {
       "_model_module": "@jupyter-widgets/base",
       "_model_module_version": "2.0.0",
       "_model_name": "LayoutModel",
       "_view_count": null,
       "_view_module": "@jupyter-widgets/base",
       "_view_module_version": "2.0.0",
       "_view_name": "LayoutView",
       "align_content": null,
       "align_items": null,
       "align_self": null,
       "border_bottom": null,
       "border_left": null,
       "border_right": null,
       "border_top": null,
       "bottom": null,
       "display": null,
       "flex": null,
       "flex_flow": null,
       "grid_area": null,
       "grid_auto_columns": null,
       "grid_auto_flow": null,
       "grid_auto_rows": null,
       "grid_column": null,
       "grid_gap": null,
       "grid_row": null,
       "grid_template_areas": null,
       "grid_template_columns": null,
       "grid_template_rows": null,
       "height": null,
       "justify_content": null,
       "justify_items": null,
       "left": null,
       "margin": null,
       "max_height": null,
       "max_width": null,
       "min_height": null,
       "min_width": null,
       "object_fit": null,
       "object_position": null,
       "order": null,
       "overflow": null,
       "padding": null,
       "right": null,
       "top": null,
       "visibility": null,
       "width": null
      }
     },
     "253f00b986474d938362313767674abb": {
      "model_module": "@jupyter-widgets/controls",
      "model_module_version": "2.0.0",
      "model_name": "HTMLModel",
      "state": {
       "_dom_classes": [],
       "_model_module": "@jupyter-widgets/controls",
       "_model_module_version": "2.0.0",
       "_model_name": "HTMLModel",
       "_view_count": null,
       "_view_module": "@jupyter-widgets/controls",
       "_view_module_version": "2.0.0",
       "_view_name": "HTMLView",
       "description": "",
       "description_allow_html": false,
       "layout": "IPY_MODEL_588acd860be749dda06ea31d12c39496",
       "placeholder": "​",
       "style": "IPY_MODEL_72d6585726d244f08bc956ffea272918",
       "tabbable": null,
       "tooltip": null,
       "value": "merges.txt: 100%"
      }
     },
     "2f796d808d184bf0bf0c107c7ad760c5": {
      "model_module": "@jupyter-widgets/base",
      "model_module_version": "2.0.0",
      "model_name": "LayoutModel",
      "state": {
       "_model_module": "@jupyter-widgets/base",
       "_model_module_version": "2.0.0",
       "_model_name": "LayoutModel",
       "_view_count": null,
       "_view_module": "@jupyter-widgets/base",
       "_view_module_version": "2.0.0",
       "_view_name": "LayoutView",
       "align_content": null,
       "align_items": null,
       "align_self": null,
       "border_bottom": null,
       "border_left": null,
       "border_right": null,
       "border_top": null,
       "bottom": null,
       "display": null,
       "flex": null,
       "flex_flow": null,
       "grid_area": null,
       "grid_auto_columns": null,
       "grid_auto_flow": null,
       "grid_auto_rows": null,
       "grid_column": null,
       "grid_gap": null,
       "grid_row": null,
       "grid_template_areas": null,
       "grid_template_columns": null,
       "grid_template_rows": null,
       "height": null,
       "justify_content": null,
       "justify_items": null,
       "left": null,
       "margin": null,
       "max_height": null,
       "max_width": null,
       "min_height": null,
       "min_width": null,
       "object_fit": null,
       "object_position": null,
       "order": null,
       "overflow": null,
       "padding": null,
       "right": null,
       "top": null,
       "visibility": null,
       "width": null
      }
     },
     "31a56be6f8fd4eb2a5ba9b28f5fedab3": {
      "model_module": "@jupyter-widgets/base",
      "model_module_version": "2.0.0",
      "model_name": "LayoutModel",
      "state": {
       "_model_module": "@jupyter-widgets/base",
       "_model_module_version": "2.0.0",
       "_model_name": "LayoutModel",
       "_view_count": null,
       "_view_module": "@jupyter-widgets/base",
       "_view_module_version": "2.0.0",
       "_view_name": "LayoutView",
       "align_content": null,
       "align_items": null,
       "align_self": null,
       "border_bottom": null,
       "border_left": null,
       "border_right": null,
       "border_top": null,
       "bottom": null,
       "display": null,
       "flex": null,
       "flex_flow": null,
       "grid_area": null,
       "grid_auto_columns": null,
       "grid_auto_flow": null,
       "grid_auto_rows": null,
       "grid_column": null,
       "grid_gap": null,
       "grid_row": null,
       "grid_template_areas": null,
       "grid_template_columns": null,
       "grid_template_rows": null,
       "height": null,
       "justify_content": null,
       "justify_items": null,
       "left": null,
       "margin": null,
       "max_height": null,
       "max_width": null,
       "min_height": null,
       "min_width": null,
       "object_fit": null,
       "object_position": null,
       "order": null,
       "overflow": null,
       "padding": null,
       "right": null,
       "top": null,
       "visibility": null,
       "width": null
      }
     },
     "32661f3189424695a31927b159165c70": {
      "model_module": "@jupyter-widgets/base",
      "model_module_version": "2.0.0",
      "model_name": "LayoutModel",
      "state": {
       "_model_module": "@jupyter-widgets/base",
       "_model_module_version": "2.0.0",
       "_model_name": "LayoutModel",
       "_view_count": null,
       "_view_module": "@jupyter-widgets/base",
       "_view_module_version": "2.0.0",
       "_view_name": "LayoutView",
       "align_content": null,
       "align_items": null,
       "align_self": null,
       "border_bottom": null,
       "border_left": null,
       "border_right": null,
       "border_top": null,
       "bottom": null,
       "display": null,
       "flex": null,
       "flex_flow": null,
       "grid_area": null,
       "grid_auto_columns": null,
       "grid_auto_flow": null,
       "grid_auto_rows": null,
       "grid_column": null,
       "grid_gap": null,
       "grid_row": null,
       "grid_template_areas": null,
       "grid_template_columns": null,
       "grid_template_rows": null,
       "height": null,
       "justify_content": null,
       "justify_items": null,
       "left": null,
       "margin": null,
       "max_height": null,
       "max_width": null,
       "min_height": null,
       "min_width": null,
       "object_fit": null,
       "object_position": null,
       "order": null,
       "overflow": null,
       "padding": null,
       "right": null,
       "top": null,
       "visibility": null,
       "width": null
      }
     },
     "41bf9fa864f24f1fa12a620ff736a718": {
      "model_module": "@jupyter-widgets/base",
      "model_module_version": "2.0.0",
      "model_name": "LayoutModel",
      "state": {
       "_model_module": "@jupyter-widgets/base",
       "_model_module_version": "2.0.0",
       "_model_name": "LayoutModel",
       "_view_count": null,
       "_view_module": "@jupyter-widgets/base",
       "_view_module_version": "2.0.0",
       "_view_name": "LayoutView",
       "align_content": null,
       "align_items": null,
       "align_self": null,
       "border_bottom": null,
       "border_left": null,
       "border_right": null,
       "border_top": null,
       "bottom": null,
       "display": null,
       "flex": null,
       "flex_flow": null,
       "grid_area": null,
       "grid_auto_columns": null,
       "grid_auto_flow": null,
       "grid_auto_rows": null,
       "grid_column": null,
       "grid_gap": null,
       "grid_row": null,
       "grid_template_areas": null,
       "grid_template_columns": null,
       "grid_template_rows": null,
       "height": null,
       "justify_content": null,
       "justify_items": null,
       "left": null,
       "margin": null,
       "max_height": null,
       "max_width": null,
       "min_height": null,
       "min_width": null,
       "object_fit": null,
       "object_position": null,
       "order": null,
       "overflow": null,
       "padding": null,
       "right": null,
       "top": null,
       "visibility": null,
       "width": null
      }
     },
     "4787a54ec1d4481dbee96cf362abd7c5": {
      "model_module": "@jupyter-widgets/base",
      "model_module_version": "2.0.0",
      "model_name": "LayoutModel",
      "state": {
       "_model_module": "@jupyter-widgets/base",
       "_model_module_version": "2.0.0",
       "_model_name": "LayoutModel",
       "_view_count": null,
       "_view_module": "@jupyter-widgets/base",
       "_view_module_version": "2.0.0",
       "_view_name": "LayoutView",
       "align_content": null,
       "align_items": null,
       "align_self": null,
       "border_bottom": null,
       "border_left": null,
       "border_right": null,
       "border_top": null,
       "bottom": null,
       "display": null,
       "flex": null,
       "flex_flow": null,
       "grid_area": null,
       "grid_auto_columns": null,
       "grid_auto_flow": null,
       "grid_auto_rows": null,
       "grid_column": null,
       "grid_gap": null,
       "grid_row": null,
       "grid_template_areas": null,
       "grid_template_columns": null,
       "grid_template_rows": null,
       "height": null,
       "justify_content": null,
       "justify_items": null,
       "left": null,
       "margin": null,
       "max_height": null,
       "max_width": null,
       "min_height": null,
       "min_width": null,
       "object_fit": null,
       "object_position": null,
       "order": null,
       "overflow": null,
       "padding": null,
       "right": null,
       "top": null,
       "visibility": null,
       "width": null
      }
     },
     "4980c95d7a21429db671c0614e98864a": {
      "model_module": "@jupyter-widgets/base",
      "model_module_version": "2.0.0",
      "model_name": "LayoutModel",
      "state": {
       "_model_module": "@jupyter-widgets/base",
       "_model_module_version": "2.0.0",
       "_model_name": "LayoutModel",
       "_view_count": null,
       "_view_module": "@jupyter-widgets/base",
       "_view_module_version": "2.0.0",
       "_view_name": "LayoutView",
       "align_content": null,
       "align_items": null,
       "align_self": null,
       "border_bottom": null,
       "border_left": null,
       "border_right": null,
       "border_top": null,
       "bottom": null,
       "display": null,
       "flex": null,
       "flex_flow": null,
       "grid_area": null,
       "grid_auto_columns": null,
       "grid_auto_flow": null,
       "grid_auto_rows": null,
       "grid_column": null,
       "grid_gap": null,
       "grid_row": null,
       "grid_template_areas": null,
       "grid_template_columns": null,
       "grid_template_rows": null,
       "height": null,
       "justify_content": null,
       "justify_items": null,
       "left": null,
       "margin": null,
       "max_height": null,
       "max_width": null,
       "min_height": null,
       "min_width": null,
       "object_fit": null,
       "object_position": null,
       "order": null,
       "overflow": null,
       "padding": null,
       "right": null,
       "top": null,
       "visibility": null,
       "width": null
      }
     },
     "4f2de658a5dc4dcfb4637a0595eee578": {
      "model_module": "@jupyter-widgets/controls",
      "model_module_version": "2.0.0",
      "model_name": "HBoxModel",
      "state": {
       "_dom_classes": [],
       "_model_module": "@jupyter-widgets/controls",
       "_model_module_version": "2.0.0",
       "_model_name": "HBoxModel",
       "_view_count": null,
       "_view_module": "@jupyter-widgets/controls",
       "_view_module_version": "2.0.0",
       "_view_name": "HBoxView",
       "box_style": "",
       "children": [
        "IPY_MODEL_5b875567a90140b4b98e46ee88f77663",
        "IPY_MODEL_619e46b9c38c48a8815476c52648d2e8",
        "IPY_MODEL_8586466903314b53b5676e412a5fe085"
       ],
       "layout": "IPY_MODEL_4787a54ec1d4481dbee96cf362abd7c5",
       "tabbable": null,
       "tooltip": null
      }
     },
     "4f918b8dbc454280921c760dc0053f1c": {
      "model_module": "@jupyter-widgets/controls",
      "model_module_version": "2.0.0",
      "model_name": "FloatProgressModel",
      "state": {
       "_dom_classes": [],
       "_model_module": "@jupyter-widgets/controls",
       "_model_module_version": "2.0.0",
       "_model_name": "FloatProgressModel",
       "_view_count": null,
       "_view_module": "@jupyter-widgets/controls",
       "_view_module_version": "2.0.0",
       "_view_name": "ProgressView",
       "bar_style": "success",
       "description": "",
       "description_allow_html": false,
       "layout": "IPY_MODEL_10afe5b2fce742f385fdd8130405a51e",
       "max": 1042301,
       "min": 0,
       "orientation": "horizontal",
       "style": "IPY_MODEL_8a0eec443f7748eeb733b5691e046bd6",
       "tabbable": null,
       "tooltip": null,
       "value": 1042301
      }
     },
     "588acd860be749dda06ea31d12c39496": {
      "model_module": "@jupyter-widgets/base",
      "model_module_version": "2.0.0",
      "model_name": "LayoutModel",
      "state": {
       "_model_module": "@jupyter-widgets/base",
       "_model_module_version": "2.0.0",
       "_model_name": "LayoutModel",
       "_view_count": null,
       "_view_module": "@jupyter-widgets/base",
       "_view_module_version": "2.0.0",
       "_view_name": "LayoutView",
       "align_content": null,
       "align_items": null,
       "align_self": null,
       "border_bottom": null,
       "border_left": null,
       "border_right": null,
       "border_top": null,
       "bottom": null,
       "display": null,
       "flex": null,
       "flex_flow": null,
       "grid_area": null,
       "grid_auto_columns": null,
       "grid_auto_flow": null,
       "grid_auto_rows": null,
       "grid_column": null,
       "grid_gap": null,
       "grid_row": null,
       "grid_template_areas": null,
       "grid_template_columns": null,
       "grid_template_rows": null,
       "height": null,
       "justify_content": null,
       "justify_items": null,
       "left": null,
       "margin": null,
       "max_height": null,
       "max_width": null,
       "min_height": null,
       "min_width": null,
       "object_fit": null,
       "object_position": null,
       "order": null,
       "overflow": null,
       "padding": null,
       "right": null,
       "top": null,
       "visibility": null,
       "width": null
      }
     },
     "5b875567a90140b4b98e46ee88f77663": {
      "model_module": "@jupyter-widgets/controls",
      "model_module_version": "2.0.0",
      "model_name": "HTMLModel",
      "state": {
       "_dom_classes": [],
       "_model_module": "@jupyter-widgets/controls",
       "_model_module_version": "2.0.0",
       "_model_name": "HTMLModel",
       "_view_count": null,
       "_view_module": "@jupyter-widgets/controls",
       "_view_module_version": "2.0.0",
       "_view_name": "HTMLView",
       "description": "",
       "description_allow_html": false,
       "layout": "IPY_MODEL_31a56be6f8fd4eb2a5ba9b28f5fedab3",
       "placeholder": "​",
       "style": "IPY_MODEL_ad11bf4dbe1943f887527a0a7be8d077",
       "tabbable": null,
       "tooltip": null,
       "value": "config.json: 100%"
      }
     },
     "5fe8895fc39f40d997dfe3122a80c8e1": {
      "model_module": "@jupyter-widgets/controls",
      "model_module_version": "2.0.0",
      "model_name": "HTMLModel",
      "state": {
       "_dom_classes": [],
       "_model_module": "@jupyter-widgets/controls",
       "_model_module_version": "2.0.0",
       "_model_name": "HTMLModel",
       "_view_count": null,
       "_view_module": "@jupyter-widgets/controls",
       "_view_module_version": "2.0.0",
       "_view_name": "HTMLView",
       "description": "",
       "description_allow_html": false,
       "layout": "IPY_MODEL_ae840b35a12a43cdbf4d6fa5bab096af",
       "placeholder": "​",
       "style": "IPY_MODEL_877a7fa8cefd43598da4bcf5607fbb78",
       "tabbable": null,
       "tooltip": null,
       "value": "vocab.json: 100%"
      }
     },
     "619e46b9c38c48a8815476c52648d2e8": {
      "model_module": "@jupyter-widgets/controls",
      "model_module_version": "2.0.0",
      "model_name": "FloatProgressModel",
      "state": {
       "_dom_classes": [],
       "_model_module": "@jupyter-widgets/controls",
       "_model_module_version": "2.0.0",
       "_model_name": "FloatProgressModel",
       "_view_count": null,
       "_view_module": "@jupyter-widgets/controls",
       "_view_module_version": "2.0.0",
       "_view_name": "ProgressView",
       "bar_style": "success",
       "description": "",
       "description_allow_html": false,
       "layout": "IPY_MODEL_afa3cc297d5b45dba88e151790cd1fea",
       "max": 665,
       "min": 0,
       "orientation": "horizontal",
       "style": "IPY_MODEL_f56af62a04fe47c1842581a56648b205",
       "tabbable": null,
       "tooltip": null,
       "value": 665
      }
     },
     "62898fd0a2064092825b8215f61ef54e": {
      "model_module": "@jupyter-widgets/base",
      "model_module_version": "2.0.0",
      "model_name": "LayoutModel",
      "state": {
       "_model_module": "@jupyter-widgets/base",
       "_model_module_version": "2.0.0",
       "_model_name": "LayoutModel",
       "_view_count": null,
       "_view_module": "@jupyter-widgets/base",
       "_view_module_version": "2.0.0",
       "_view_name": "LayoutView",
       "align_content": null,
       "align_items": null,
       "align_self": null,
       "border_bottom": null,
       "border_left": null,
       "border_right": null,
       "border_top": null,
       "bottom": null,
       "display": null,
       "flex": null,
       "flex_flow": null,
       "grid_area": null,
       "grid_auto_columns": null,
       "grid_auto_flow": null,
       "grid_auto_rows": null,
       "grid_column": null,
       "grid_gap": null,
       "grid_row": null,
       "grid_template_areas": null,
       "grid_template_columns": null,
       "grid_template_rows": null,
       "height": null,
       "justify_content": null,
       "justify_items": null,
       "left": null,
       "margin": null,
       "max_height": null,
       "max_width": null,
       "min_height": null,
       "min_width": null,
       "object_fit": null,
       "object_position": null,
       "order": null,
       "overflow": null,
       "padding": null,
       "right": null,
       "top": null,
       "visibility": null,
       "width": null
      }
     },
     "62e89466f2cc42509c35ca4865039aa0": {
      "model_module": "@jupyter-widgets/controls",
      "model_module_version": "2.0.0",
      "model_name": "HBoxModel",
      "state": {
       "_dom_classes": [],
       "_model_module": "@jupyter-widgets/controls",
       "_model_module_version": "2.0.0",
       "_model_name": "HBoxModel",
       "_view_count": null,
       "_view_module": "@jupyter-widgets/controls",
       "_view_module_version": "2.0.0",
       "_view_name": "HBoxView",
       "box_style": "",
       "children": [
        "IPY_MODEL_01d617a738ba4d97b6c6c1212d859f95",
        "IPY_MODEL_20718c4a6ce44acc85ca0ca8a2f7fd08",
        "IPY_MODEL_f53b2371875941aab93b77b39641b809"
       ],
       "layout": "IPY_MODEL_c4e3e6d6ef4c4e468fe27cc951fe3911",
       "tabbable": null,
       "tooltip": null
      }
     },
     "72d6585726d244f08bc956ffea272918": {
      "model_module": "@jupyter-widgets/controls",
      "model_module_version": "2.0.0",
      "model_name": "HTMLStyleModel",
      "state": {
       "_model_module": "@jupyter-widgets/controls",
       "_model_module_version": "2.0.0",
       "_model_name": "HTMLStyleModel",
       "_view_count": null,
       "_view_module": "@jupyter-widgets/base",
       "_view_module_version": "2.0.0",
       "_view_name": "StyleView",
       "background": null,
       "description_width": "",
       "font_size": null,
       "text_color": null
      }
     },
     "747f2c4f8c2d4944af261bb033950656": {
      "model_module": "@jupyter-widgets/controls",
      "model_module_version": "2.0.0",
      "model_name": "ProgressStyleModel",
      "state": {
       "_model_module": "@jupyter-widgets/controls",
       "_model_module_version": "2.0.0",
       "_model_name": "ProgressStyleModel",
       "_view_count": null,
       "_view_module": "@jupyter-widgets/base",
       "_view_module_version": "2.0.0",
       "_view_name": "StyleView",
       "bar_color": null,
       "description_width": ""
      }
     },
     "7a6ee27914e74d968580b9bea422df72": {
      "model_module": "@jupyter-widgets/base",
      "model_module_version": "2.0.0",
      "model_name": "LayoutModel",
      "state": {
       "_model_module": "@jupyter-widgets/base",
       "_model_module_version": "2.0.0",
       "_model_name": "LayoutModel",
       "_view_count": null,
       "_view_module": "@jupyter-widgets/base",
       "_view_module_version": "2.0.0",
       "_view_name": "LayoutView",
       "align_content": null,
       "align_items": null,
       "align_self": null,
       "border_bottom": null,
       "border_left": null,
       "border_right": null,
       "border_top": null,
       "bottom": null,
       "display": null,
       "flex": null,
       "flex_flow": null,
       "grid_area": null,
       "grid_auto_columns": null,
       "grid_auto_flow": null,
       "grid_auto_rows": null,
       "grid_column": null,
       "grid_gap": null,
       "grid_row": null,
       "grid_template_areas": null,
       "grid_template_columns": null,
       "grid_template_rows": null,
       "height": null,
       "justify_content": null,
       "justify_items": null,
       "left": null,
       "margin": null,
       "max_height": null,
       "max_width": null,
       "min_height": null,
       "min_width": null,
       "object_fit": null,
       "object_position": null,
       "order": null,
       "overflow": null,
       "padding": null,
       "right": null,
       "top": null,
       "visibility": null,
       "width": null
      }
     },
     "7a9387cb49ac423c98ecb71405c5fbea": {
      "model_module": "@jupyter-widgets/controls",
      "model_module_version": "2.0.0",
      "model_name": "ProgressStyleModel",
      "state": {
       "_model_module": "@jupyter-widgets/controls",
       "_model_module_version": "2.0.0",
       "_model_name": "ProgressStyleModel",
       "_view_count": null,
       "_view_module": "@jupyter-widgets/base",
       "_view_module_version": "2.0.0",
       "_view_name": "StyleView",
       "bar_color": null,
       "description_width": ""
      }
     },
     "7e6a78d7fcb34adf8dbae29551f4e7d9": {
      "model_module": "@jupyter-widgets/controls",
      "model_module_version": "2.0.0",
      "model_name": "HTMLStyleModel",
      "state": {
       "_model_module": "@jupyter-widgets/controls",
       "_model_module_version": "2.0.0",
       "_model_name": "HTMLStyleModel",
       "_view_count": null,
       "_view_module": "@jupyter-widgets/base",
       "_view_module_version": "2.0.0",
       "_view_name": "StyleView",
       "background": null,
       "description_width": "",
       "font_size": null,
       "text_color": null
      }
     },
     "7fb719c4621c4cb5a390b62168004dca": {
      "model_module": "@jupyter-widgets/base",
      "model_module_version": "2.0.0",
      "model_name": "LayoutModel",
      "state": {
       "_model_module": "@jupyter-widgets/base",
       "_model_module_version": "2.0.0",
       "_model_name": "LayoutModel",
       "_view_count": null,
       "_view_module": "@jupyter-widgets/base",
       "_view_module_version": "2.0.0",
       "_view_name": "LayoutView",
       "align_content": null,
       "align_items": null,
       "align_self": null,
       "border_bottom": null,
       "border_left": null,
       "border_right": null,
       "border_top": null,
       "bottom": null,
       "display": null,
       "flex": null,
       "flex_flow": null,
       "grid_area": null,
       "grid_auto_columns": null,
       "grid_auto_flow": null,
       "grid_auto_rows": null,
       "grid_column": null,
       "grid_gap": null,
       "grid_row": null,
       "grid_template_areas": null,
       "grid_template_columns": null,
       "grid_template_rows": null,
       "height": null,
       "justify_content": null,
       "justify_items": null,
       "left": null,
       "margin": null,
       "max_height": null,
       "max_width": null,
       "min_height": null,
       "min_width": null,
       "object_fit": null,
       "object_position": null,
       "order": null,
       "overflow": null,
       "padding": null,
       "right": null,
       "top": null,
       "visibility": null,
       "width": null
      }
     },
     "8123ae2003ad4ffaba55256cea82b004": {
      "model_module": "@jupyter-widgets/base",
      "model_module_version": "2.0.0",
      "model_name": "LayoutModel",
      "state": {
       "_model_module": "@jupyter-widgets/base",
       "_model_module_version": "2.0.0",
       "_model_name": "LayoutModel",
       "_view_count": null,
       "_view_module": "@jupyter-widgets/base",
       "_view_module_version": "2.0.0",
       "_view_name": "LayoutView",
       "align_content": null,
       "align_items": null,
       "align_self": null,
       "border_bottom": null,
       "border_left": null,
       "border_right": null,
       "border_top": null,
       "bottom": null,
       "display": null,
       "flex": null,
       "flex_flow": null,
       "grid_area": null,
       "grid_auto_columns": null,
       "grid_auto_flow": null,
       "grid_auto_rows": null,
       "grid_column": null,
       "grid_gap": null,
       "grid_row": null,
       "grid_template_areas": null,
       "grid_template_columns": null,
       "grid_template_rows": null,
       "height": null,
       "justify_content": null,
       "justify_items": null,
       "left": null,
       "margin": null,
       "max_height": null,
       "max_width": null,
       "min_height": null,
       "min_width": null,
       "object_fit": null,
       "object_position": null,
       "order": null,
       "overflow": null,
       "padding": null,
       "right": null,
       "top": null,
       "visibility": null,
       "width": null
      }
     },
     "8586466903314b53b5676e412a5fe085": {
      "model_module": "@jupyter-widgets/controls",
      "model_module_version": "2.0.0",
      "model_name": "HTMLModel",
      "state": {
       "_dom_classes": [],
       "_model_module": "@jupyter-widgets/controls",
       "_model_module_version": "2.0.0",
       "_model_name": "HTMLModel",
       "_view_count": null,
       "_view_module": "@jupyter-widgets/controls",
       "_view_module_version": "2.0.0",
       "_view_name": "HTMLView",
       "description": "",
       "description_allow_html": false,
       "layout": "IPY_MODEL_0e1da27c90b44791b5efb9f3a11b033c",
       "placeholder": "​",
       "style": "IPY_MODEL_f675a35278e94bf38148c85ed376f32f",
       "tabbable": null,
       "tooltip": null,
       "value": " 665/665 [00:00&lt;00:00, 64.0kB/s]"
      }
     },
     "86809868fa4b4e6b8b84be0ed49d0a9f": {
      "model_module": "@jupyter-widgets/controls",
      "model_module_version": "2.0.0",
      "model_name": "HBoxModel",
      "state": {
       "_dom_classes": [],
       "_model_module": "@jupyter-widgets/controls",
       "_model_module_version": "2.0.0",
       "_model_name": "HBoxModel",
       "_view_count": null,
       "_view_module": "@jupyter-widgets/controls",
       "_view_module_version": "2.0.0",
       "_view_name": "HBoxView",
       "box_style": "",
       "children": [
        "IPY_MODEL_5fe8895fc39f40d997dfe3122a80c8e1",
        "IPY_MODEL_4f918b8dbc454280921c760dc0053f1c",
        "IPY_MODEL_e283a8f820d24c5780e31ee755897d1f"
       ],
       "layout": "IPY_MODEL_23ff5218151e4d5b988c43a63ef39f7d",
       "tabbable": null,
       "tooltip": null
      }
     },
     "877a7fa8cefd43598da4bcf5607fbb78": {
      "model_module": "@jupyter-widgets/controls",
      "model_module_version": "2.0.0",
      "model_name": "HTMLStyleModel",
      "state": {
       "_model_module": "@jupyter-widgets/controls",
       "_model_module_version": "2.0.0",
       "_model_name": "HTMLStyleModel",
       "_view_count": null,
       "_view_module": "@jupyter-widgets/base",
       "_view_module_version": "2.0.0",
       "_view_name": "StyleView",
       "background": null,
       "description_width": "",
       "font_size": null,
       "text_color": null
      }
     },
     "8a0eec443f7748eeb733b5691e046bd6": {
      "model_module": "@jupyter-widgets/controls",
      "model_module_version": "2.0.0",
      "model_name": "ProgressStyleModel",
      "state": {
       "_model_module": "@jupyter-widgets/controls",
       "_model_module_version": "2.0.0",
       "_model_name": "ProgressStyleModel",
       "_view_count": null,
       "_view_module": "@jupyter-widgets/base",
       "_view_module_version": "2.0.0",
       "_view_name": "StyleView",
       "bar_color": null,
       "description_width": ""
      }
     },
     "9b71cbb2d1af4a45855ebf72540d39bc": {
      "model_module": "@jupyter-widgets/controls",
      "model_module_version": "2.0.0",
      "model_name": "HTMLStyleModel",
      "state": {
       "_model_module": "@jupyter-widgets/controls",
       "_model_module_version": "2.0.0",
       "_model_name": "HTMLStyleModel",
       "_view_count": null,
       "_view_module": "@jupyter-widgets/base",
       "_view_module_version": "2.0.0",
       "_view_name": "StyleView",
       "background": null,
       "description_width": "",
       "font_size": null,
       "text_color": null
      }
     },
     "a0d3ba3887974d15aeee4514d294a012": {
      "model_module": "@jupyter-widgets/controls",
      "model_module_version": "2.0.0",
      "model_name": "FloatProgressModel",
      "state": {
       "_dom_classes": [],
       "_model_module": "@jupyter-widgets/controls",
       "_model_module_version": "2.0.0",
       "_model_name": "FloatProgressModel",
       "_view_count": null,
       "_view_module": "@jupyter-widgets/controls",
       "_view_module_version": "2.0.0",
       "_view_name": "ProgressView",
       "bar_style": "success",
       "description": "",
       "description_allow_html": false,
       "layout": "IPY_MODEL_e505885218524f41a8aa965fef24d061",
       "max": 1355256,
       "min": 0,
       "orientation": "horizontal",
       "style": "IPY_MODEL_b02890577061467cb58419c04a435b27",
       "tabbable": null,
       "tooltip": null,
       "value": 1355256
      }
     },
     "a476c4171d214d2ba40b11d2a9ef2b48": {
      "model_module": "@jupyter-widgets/base",
      "model_module_version": "2.0.0",
      "model_name": "LayoutModel",
      "state": {
       "_model_module": "@jupyter-widgets/base",
       "_model_module_version": "2.0.0",
       "_model_name": "LayoutModel",
       "_view_count": null,
       "_view_module": "@jupyter-widgets/base",
       "_view_module_version": "2.0.0",
       "_view_name": "LayoutView",
       "align_content": null,
       "align_items": null,
       "align_self": null,
       "border_bottom": null,
       "border_left": null,
       "border_right": null,
       "border_top": null,
       "bottom": null,
       "display": null,
       "flex": null,
       "flex_flow": null,
       "grid_area": null,
       "grid_auto_columns": null,
       "grid_auto_flow": null,
       "grid_auto_rows": null,
       "grid_column": null,
       "grid_gap": null,
       "grid_row": null,
       "grid_template_areas": null,
       "grid_template_columns": null,
       "grid_template_rows": null,
       "height": null,
       "justify_content": null,
       "justify_items": null,
       "left": null,
       "margin": null,
       "max_height": null,
       "max_width": null,
       "min_height": null,
       "min_width": null,
       "object_fit": null,
       "object_position": null,
       "order": null,
       "overflow": null,
       "padding": null,
       "right": null,
       "top": null,
       "visibility": null,
       "width": null
      }
     },
     "ad11bf4dbe1943f887527a0a7be8d077": {
      "model_module": "@jupyter-widgets/controls",
      "model_module_version": "2.0.0",
      "model_name": "HTMLStyleModel",
      "state": {
       "_model_module": "@jupyter-widgets/controls",
       "_model_module_version": "2.0.0",
       "_model_name": "HTMLStyleModel",
       "_view_count": null,
       "_view_module": "@jupyter-widgets/base",
       "_view_module_version": "2.0.0",
       "_view_name": "StyleView",
       "background": null,
       "description_width": "",
       "font_size": null,
       "text_color": null
      }
     },
     "ada1ead42f854415a7c3fdd0cdeb77fa": {
      "model_module": "@jupyter-widgets/controls",
      "model_module_version": "2.0.0",
      "model_name": "HTMLModel",
      "state": {
       "_dom_classes": [],
       "_model_module": "@jupyter-widgets/controls",
       "_model_module_version": "2.0.0",
       "_model_name": "HTMLModel",
       "_view_count": null,
       "_view_module": "@jupyter-widgets/controls",
       "_view_module_version": "2.0.0",
       "_view_name": "HTMLView",
       "description": "",
       "description_allow_html": false,
       "layout": "IPY_MODEL_7fb719c4621c4cb5a390b62168004dca",
       "placeholder": "​",
       "style": "IPY_MODEL_7e6a78d7fcb34adf8dbae29551f4e7d9",
       "tabbable": null,
       "tooltip": null,
       "value": "tokenizer.json: 100%"
      }
     },
     "ae840b35a12a43cdbf4d6fa5bab096af": {
      "model_module": "@jupyter-widgets/base",
      "model_module_version": "2.0.0",
      "model_name": "LayoutModel",
      "state": {
       "_model_module": "@jupyter-widgets/base",
       "_model_module_version": "2.0.0",
       "_model_name": "LayoutModel",
       "_view_count": null,
       "_view_module": "@jupyter-widgets/base",
       "_view_module_version": "2.0.0",
       "_view_name": "LayoutView",
       "align_content": null,
       "align_items": null,
       "align_self": null,
       "border_bottom": null,
       "border_left": null,
       "border_right": null,
       "border_top": null,
       "bottom": null,
       "display": null,
       "flex": null,
       "flex_flow": null,
       "grid_area": null,
       "grid_auto_columns": null,
       "grid_auto_flow": null,
       "grid_auto_rows": null,
       "grid_column": null,
       "grid_gap": null,
       "grid_row": null,
       "grid_template_areas": null,
       "grid_template_columns": null,
       "grid_template_rows": null,
       "height": null,
       "justify_content": null,
       "justify_items": null,
       "left": null,
       "margin": null,
       "max_height": null,
       "max_width": null,
       "min_height": null,
       "min_width": null,
       "object_fit": null,
       "object_position": null,
       "order": null,
       "overflow": null,
       "padding": null,
       "right": null,
       "top": null,
       "visibility": null,
       "width": null
      }
     },
     "afa3cc297d5b45dba88e151790cd1fea": {
      "model_module": "@jupyter-widgets/base",
      "model_module_version": "2.0.0",
      "model_name": "LayoutModel",
      "state": {
       "_model_module": "@jupyter-widgets/base",
       "_model_module_version": "2.0.0",
       "_model_name": "LayoutModel",
       "_view_count": null,
       "_view_module": "@jupyter-widgets/base",
       "_view_module_version": "2.0.0",
       "_view_name": "LayoutView",
       "align_content": null,
       "align_items": null,
       "align_self": null,
       "border_bottom": null,
       "border_left": null,
       "border_right": null,
       "border_top": null,
       "bottom": null,
       "display": null,
       "flex": null,
       "flex_flow": null,
       "grid_area": null,
       "grid_auto_columns": null,
       "grid_auto_flow": null,
       "grid_auto_rows": null,
       "grid_column": null,
       "grid_gap": null,
       "grid_row": null,
       "grid_template_areas": null,
       "grid_template_columns": null,
       "grid_template_rows": null,
       "height": null,
       "justify_content": null,
       "justify_items": null,
       "left": null,
       "margin": null,
       "max_height": null,
       "max_width": null,
       "min_height": null,
       "min_width": null,
       "object_fit": null,
       "object_position": null,
       "order": null,
       "overflow": null,
       "padding": null,
       "right": null,
       "top": null,
       "visibility": null,
       "width": null
      }
     },
     "b02890577061467cb58419c04a435b27": {
      "model_module": "@jupyter-widgets/controls",
      "model_module_version": "2.0.0",
      "model_name": "ProgressStyleModel",
      "state": {
       "_model_module": "@jupyter-widgets/controls",
       "_model_module_version": "2.0.0",
       "_model_name": "ProgressStyleModel",
       "_view_count": null,
       "_view_module": "@jupyter-widgets/base",
       "_view_module_version": "2.0.0",
       "_view_name": "StyleView",
       "bar_color": null,
       "description_width": ""
      }
     },
     "b3c14e8545644e58bf52bbec02f3825e": {
      "model_module": "@jupyter-widgets/controls",
      "model_module_version": "2.0.0",
      "model_name": "FloatProgressModel",
      "state": {
       "_dom_classes": [],
       "_model_module": "@jupyter-widgets/controls",
       "_model_module_version": "2.0.0",
       "_model_name": "FloatProgressModel",
       "_view_count": null,
       "_view_module": "@jupyter-widgets/controls",
       "_view_module_version": "2.0.0",
       "_view_name": "ProgressView",
       "bar_style": "success",
       "description": "",
       "description_allow_html": false,
       "layout": "IPY_MODEL_8123ae2003ad4ffaba55256cea82b004",
       "max": 456318,
       "min": 0,
       "orientation": "horizontal",
       "style": "IPY_MODEL_7a9387cb49ac423c98ecb71405c5fbea",
       "tabbable": null,
       "tooltip": null,
       "value": 456318
      }
     },
     "c4e3e6d6ef4c4e468fe27cc951fe3911": {
      "model_module": "@jupyter-widgets/base",
      "model_module_version": "2.0.0",
      "model_name": "LayoutModel",
      "state": {
       "_model_module": "@jupyter-widgets/base",
       "_model_module_version": "2.0.0",
       "_model_name": "LayoutModel",
       "_view_count": null,
       "_view_module": "@jupyter-widgets/base",
       "_view_module_version": "2.0.0",
       "_view_name": "LayoutView",
       "align_content": null,
       "align_items": null,
       "align_self": null,
       "border_bottom": null,
       "border_left": null,
       "border_right": null,
       "border_top": null,
       "bottom": null,
       "display": null,
       "flex": null,
       "flex_flow": null,
       "grid_area": null,
       "grid_auto_columns": null,
       "grid_auto_flow": null,
       "grid_auto_rows": null,
       "grid_column": null,
       "grid_gap": null,
       "grid_row": null,
       "grid_template_areas": null,
       "grid_template_columns": null,
       "grid_template_rows": null,
       "height": null,
       "justify_content": null,
       "justify_items": null,
       "left": null,
       "margin": null,
       "max_height": null,
       "max_width": null,
       "min_height": null,
       "min_width": null,
       "object_fit": null,
       "object_position": null,
       "order": null,
       "overflow": null,
       "padding": null,
       "right": null,
       "top": null,
       "visibility": null,
       "width": null
      }
     },
     "ca9768591f8f4977970055304b381383": {
      "model_module": "@jupyter-widgets/base",
      "model_module_version": "2.0.0",
      "model_name": "LayoutModel",
      "state": {
       "_model_module": "@jupyter-widgets/base",
       "_model_module_version": "2.0.0",
       "_model_name": "LayoutModel",
       "_view_count": null,
       "_view_module": "@jupyter-widgets/base",
       "_view_module_version": "2.0.0",
       "_view_name": "LayoutView",
       "align_content": null,
       "align_items": null,
       "align_self": null,
       "border_bottom": null,
       "border_left": null,
       "border_right": null,
       "border_top": null,
       "bottom": null,
       "display": null,
       "flex": null,
       "flex_flow": null,
       "grid_area": null,
       "grid_auto_columns": null,
       "grid_auto_flow": null,
       "grid_auto_rows": null,
       "grid_column": null,
       "grid_gap": null,
       "grid_row": null,
       "grid_template_areas": null,
       "grid_template_columns": null,
       "grid_template_rows": null,
       "height": null,
       "justify_content": null,
       "justify_items": null,
       "left": null,
       "margin": null,
       "max_height": null,
       "max_width": null,
       "min_height": null,
       "min_width": null,
       "object_fit": null,
       "object_position": null,
       "order": null,
       "overflow": null,
       "padding": null,
       "right": null,
       "top": null,
       "visibility": null,
       "width": null
      }
     },
     "e283a8f820d24c5780e31ee755897d1f": {
      "model_module": "@jupyter-widgets/controls",
      "model_module_version": "2.0.0",
      "model_name": "HTMLModel",
      "state": {
       "_dom_classes": [],
       "_model_module": "@jupyter-widgets/controls",
       "_model_module_version": "2.0.0",
       "_model_name": "HTMLModel",
       "_view_count": null,
       "_view_module": "@jupyter-widgets/controls",
       "_view_module_version": "2.0.0",
       "_view_name": "HTMLView",
       "description": "",
       "description_allow_html": false,
       "layout": "IPY_MODEL_32661f3189424695a31927b159165c70",
       "placeholder": "​",
       "style": "IPY_MODEL_fc595ee3c1d44d858ce5c7db169ae27c",
       "tabbable": null,
       "tooltip": null,
       "value": " 1.04M/1.04M [00:00&lt;00:00, 8.23MB/s]"
      }
     },
     "e505885218524f41a8aa965fef24d061": {
      "model_module": "@jupyter-widgets/base",
      "model_module_version": "2.0.0",
      "model_name": "LayoutModel",
      "state": {
       "_model_module": "@jupyter-widgets/base",
       "_model_module_version": "2.0.0",
       "_model_name": "LayoutModel",
       "_view_count": null,
       "_view_module": "@jupyter-widgets/base",
       "_view_module_version": "2.0.0",
       "_view_name": "LayoutView",
       "align_content": null,
       "align_items": null,
       "align_self": null,
       "border_bottom": null,
       "border_left": null,
       "border_right": null,
       "border_top": null,
       "bottom": null,
       "display": null,
       "flex": null,
       "flex_flow": null,
       "grid_area": null,
       "grid_auto_columns": null,
       "grid_auto_flow": null,
       "grid_auto_rows": null,
       "grid_column": null,
       "grid_gap": null,
       "grid_row": null,
       "grid_template_areas": null,
       "grid_template_columns": null,
       "grid_template_rows": null,
       "height": null,
       "justify_content": null,
       "justify_items": null,
       "left": null,
       "margin": null,
       "max_height": null,
       "max_width": null,
       "min_height": null,
       "min_width": null,
       "object_fit": null,
       "object_position": null,
       "order": null,
       "overflow": null,
       "padding": null,
       "right": null,
       "top": null,
       "visibility": null,
       "width": null
      }
     },
     "e76669616bb4442e9cb60857d2ea15fe": {
      "model_module": "@jupyter-widgets/controls",
      "model_module_version": "2.0.0",
      "model_name": "HTMLStyleModel",
      "state": {
       "_model_module": "@jupyter-widgets/controls",
       "_model_module_version": "2.0.0",
       "_model_name": "HTMLStyleModel",
       "_view_count": null,
       "_view_module": "@jupyter-widgets/base",
       "_view_module_version": "2.0.0",
       "_view_name": "StyleView",
       "background": null,
       "description_width": "",
       "font_size": null,
       "text_color": null
      }
     },
     "f04d3455a0654c588fdab5d3b47ca051": {
      "model_module": "@jupyter-widgets/controls",
      "model_module_version": "2.0.0",
      "model_name": "HBoxModel",
      "state": {
       "_dom_classes": [],
       "_model_module": "@jupyter-widgets/controls",
       "_model_module_version": "2.0.0",
       "_model_name": "HBoxModel",
       "_view_count": null,
       "_view_module": "@jupyter-widgets/controls",
       "_view_module_version": "2.0.0",
       "_view_name": "HBoxView",
       "box_style": "",
       "children": [
        "IPY_MODEL_253f00b986474d938362313767674abb",
        "IPY_MODEL_b3c14e8545644e58bf52bbec02f3825e",
        "IPY_MODEL_0a516da5b2894cc2a4c3e373d4813a30"
       ],
       "layout": "IPY_MODEL_a476c4171d214d2ba40b11d2a9ef2b48",
       "tabbable": null,
       "tooltip": null
      }
     },
     "f114c3aab9004814bfd67dac24dc25da": {
      "model_module": "@jupyter-widgets/controls",
      "model_module_version": "2.0.0",
      "model_name": "HBoxModel",
      "state": {
       "_dom_classes": [],
       "_model_module": "@jupyter-widgets/controls",
       "_model_module_version": "2.0.0",
       "_model_name": "HBoxModel",
       "_view_count": null,
       "_view_module": "@jupyter-widgets/controls",
       "_view_module_version": "2.0.0",
       "_view_name": "HBoxView",
       "box_style": "",
       "children": [
        "IPY_MODEL_ada1ead42f854415a7c3fdd0cdeb77fa",
        "IPY_MODEL_a0d3ba3887974d15aeee4514d294a012",
        "IPY_MODEL_1081fb8621de48e59555abdaf445e30d"
       ],
       "layout": "IPY_MODEL_ca9768591f8f4977970055304b381383",
       "tabbable": null,
       "tooltip": null
      }
     },
     "f53b2371875941aab93b77b39641b809": {
      "model_module": "@jupyter-widgets/controls",
      "model_module_version": "2.0.0",
      "model_name": "HTMLModel",
      "state": {
       "_dom_classes": [],
       "_model_module": "@jupyter-widgets/controls",
       "_model_module_version": "2.0.0",
       "_model_name": "HTMLModel",
       "_view_count": null,
       "_view_module": "@jupyter-widgets/controls",
       "_view_module_version": "2.0.0",
       "_view_name": "HTMLView",
       "description": "",
       "description_allow_html": false,
       "layout": "IPY_MODEL_4980c95d7a21429db671c0614e98864a",
       "placeholder": "​",
       "style": "IPY_MODEL_e76669616bb4442e9cb60857d2ea15fe",
       "tabbable": null,
       "tooltip": null,
       "value": " 26.0/26.0 [00:00&lt;00:00, 2.13kB/s]"
      }
     },
     "f56af62a04fe47c1842581a56648b205": {
      "model_module": "@jupyter-widgets/controls",
      "model_module_version": "2.0.0",
      "model_name": "ProgressStyleModel",
      "state": {
       "_model_module": "@jupyter-widgets/controls",
       "_model_module_version": "2.0.0",
       "_model_name": "ProgressStyleModel",
       "_view_count": null,
       "_view_module": "@jupyter-widgets/base",
       "_view_module_version": "2.0.0",
       "_view_name": "StyleView",
       "bar_color": null,
       "description_width": ""
      }
     },
     "f675a35278e94bf38148c85ed376f32f": {
      "model_module": "@jupyter-widgets/controls",
      "model_module_version": "2.0.0",
      "model_name": "HTMLStyleModel",
      "state": {
       "_model_module": "@jupyter-widgets/controls",
       "_model_module_version": "2.0.0",
       "_model_name": "HTMLStyleModel",
       "_view_count": null,
       "_view_module": "@jupyter-widgets/base",
       "_view_module_version": "2.0.0",
       "_view_name": "StyleView",
       "background": null,
       "description_width": "",
       "font_size": null,
       "text_color": null
      }
     },
     "fc595ee3c1d44d858ce5c7db169ae27c": {
      "model_module": "@jupyter-widgets/controls",
      "model_module_version": "2.0.0",
      "model_name": "HTMLStyleModel",
      "state": {
       "_model_module": "@jupyter-widgets/controls",
       "_model_module_version": "2.0.0",
       "_model_name": "HTMLStyleModel",
       "_view_count": null,
       "_view_module": "@jupyter-widgets/base",
       "_view_module_version": "2.0.0",
       "_view_name": "StyleView",
       "background": null,
       "description_width": "",
       "font_size": null,
       "text_color": null
      }
     }
    },
    "version_major": 2,
    "version_minor": 0
   }
  }
 },
 "nbformat": 4,
 "nbformat_minor": 5
}
