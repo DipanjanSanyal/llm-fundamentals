{
 "cells": [
  {
   "cell_type": "markdown",
   "id": "7b7fb77c",
   "metadata": {},
   "source": [
    "`Adapted from ng-video-lecture by Andrej Karpathy`\n",
    "\n",
    "`Original source: https://github.com/karpathy/ng-video-lecture`\n",
    "\n",
    "`Simplified and modified for clarity and educational use`"
   ]
  },
  {
   "cell_type": "markdown",
   "id": "3eb1da28",
   "metadata": {
    "_cell_guid": "b1076dfc-b9ad-4769-8c92-a6c4dae69d19",
    "_uuid": "8f2839f25d086af736a60e9eeb907d3b93b6e0e5",
    "papermill": {
     "duration": 0.005559,
     "end_time": "2025-05-18T04:30:49.120131",
     "exception": false,
     "start_time": "2025-05-18T04:30:49.114572",
     "status": "completed"
    },
    "tags": []
   },
   "source": [
    "### Recap - Part1\n",
    "\n",
    "We start with the data and the model (without transformer) established in last section"
   ]
  },
  {
   "cell_type": "code",
   "execution_count": 2,
   "id": "a89cf0cb",
   "metadata": {
    "execution": {
     "iopub.execute_input": "2025-05-18T04:30:49.130511Z",
     "iopub.status.busy": "2025-05-18T04:30:49.130217Z",
     "iopub.status.idle": "2025-05-18T04:30:53.598801Z",
     "shell.execute_reply": "2025-05-18T04:30:53.597926Z"
    },
    "papermill": {
     "duration": 4.475665,
     "end_time": "2025-05-18T04:30:53.600430",
     "exception": false,
     "start_time": "2025-05-18T04:30:49.124765",
     "status": "completed"
    },
    "tags": []
   },
   "outputs": [],
   "source": [
    "import numpy as np\n",
    "import torch\n",
    "import torch.nn as nn"
   ]
  },
  {
   "cell_type": "code",
   "execution_count": 3,
   "id": "3dcf1207",
   "metadata": {
    "execution": {
     "iopub.execute_input": "2025-05-18T04:30:53.610936Z",
     "iopub.status.busy": "2025-05-18T04:30:53.610519Z",
     "iopub.status.idle": "2025-05-18T04:30:53.638258Z",
     "shell.execute_reply": "2025-05-18T04:30:53.637539Z"
    },
    "papermill": {
     "duration": 0.0343,
     "end_time": "2025-05-18T04:30:53.639651",
     "exception": false,
     "start_time": "2025-05-18T04:30:53.605351",
     "status": "completed"
    },
    "tags": []
   },
   "outputs": [],
   "source": [
    "############################## DATA ######################################\n",
    "\n",
    "np.random.seed(1)\n",
    "\n",
    "B = 4\n",
    "T = 6\n",
    "V = 100\n",
    "\n",
    "# Suppose this is a batch of sequences randomly picked from the whole sequence\n",
    "x = np.random.randint(0, V-1, (B, T))\n",
    "\n",
    "x = torch.from_numpy(x)\n",
    "\n",
    "inputs = x[:,:-1] # predictor sequences\n",
    "targets = x[:,1:] # predictable sequences"
   ]
  },
  {
   "cell_type": "code",
   "execution_count": 4,
   "id": "f5db69e6",
   "metadata": {
    "execution": {
     "iopub.execute_input": "2025-05-18T04:30:53.649443Z",
     "iopub.status.busy": "2025-05-18T04:30:53.649160Z",
     "iopub.status.idle": "2025-05-18T04:30:53.779407Z",
     "shell.execute_reply": "2025-05-18T04:30:53.778486Z"
    },
    "papermill": {
     "duration": 0.137194,
     "end_time": "2025-05-18T04:30:53.781224",
     "exception": false,
     "start_time": "2025-05-18T04:30:53.644030",
     "status": "completed"
    },
    "tags": []
   },
   "outputs": [
    {
     "name": "stdout",
     "output_type": "stream",
     "text": [
      "x_logits.shape:  torch.Size([4, 5, 100])\n",
      "\n",
      "Sum of softmax logits of first token in the first sequence as probability:\n",
      " tensor(1., grad_fn=<SumBackward0>)\n",
      "\n",
      "loss:  tensor(4.6062, grad_fn=<NllLossBackward0>)\n"
     ]
    }
   ],
   "source": [
    "############################  MODEL  ####################################\n",
    "\n",
    "C = 10\n",
    "\n",
    "class GPTLanguageModel(nn.Module):\n",
    "    \n",
    "    def __init__(self):\n",
    "        super().__init__()\n",
    "        \n",
    "        self.token_embedding_table = nn.Embedding(V, C)\n",
    "        self.position_embedding_table = nn.Embedding(T-1, C)\n",
    "        self.lm_head = nn.Linear(C, V)\n",
    "\n",
    "    def forward(self, idx, targets=None):\n",
    "        B, t = idx.shape\n",
    "        x_tok_embed = self.token_embedding_table(idx)\n",
    "        x_pos_embed = self.position_embedding_table(torch.arange(t))\n",
    "        x_embed = x_tok_embed + x_pos_embed\n",
    "        x_t_out = x_embed / 2 # Placeholder for Transformer Blocks\n",
    "        x_raw_logits = self.lm_head(x_t_out)\n",
    "        x_logits = torch.softmax(x_raw_logits, axis=2)\n",
    "\n",
    "        if targets is None:\n",
    "            loss = None\n",
    "        else:\n",
    "            B, t, C = x_logits.shape\n",
    "            logits = x_logits.view(B*t, C)\n",
    "            targets = targets.contiguous().view(B*t)\n",
    "            loss = nn.functional.cross_entropy(logits, targets)\n",
    "        #############################################\n",
    "\n",
    "        return x_logits, loss\n",
    "\n",
    "###################################################################################\n",
    "\n",
    "# Call instance of our model class\n",
    "model = GPTLanguageModel()\n",
    "\n",
    "# Pass predictor sequence through the model\n",
    "x_logits, loss = model(idx = inputs, targets = targets)\n",
    "\n",
    "print(\"x_logits.shape: \", x_logits.shape)\n",
    "print(\"\\nSum of softmax logits of first token in the first sequence as probability:\\n\", torch.sum(x_logits[0,0,:]))\n",
    "print(\"\\nloss: \", loss)"
   ]
  },
  {
   "attachments": {
    "a1351f4f-fee9-4197-9b51-fcbd699a0238.png": {
     "image/png": "[encoded data removed]"
    }
   },
   "cell_type": "markdown",
   "id": "a1bfe989",
   "metadata": {
    "papermill": {
     "duration": 0.003959,
     "end_time": "2025-05-18T04:30:53.789702",
     "exception": false,
     "start_time": "2025-05-18T04:30:53.785743",
     "status": "completed"
    },
    "tags": []
   },
   "source": [
    "### Overall Model Structure\n",
    "\n",
    "![Screenshot 2025-05-06 151208.png](attachment:a1351f4f-fee9-4197-9b51-fcbd699a0238.png)"
   ]
  },
  {
   "cell_type": "markdown",
   "id": "ef4beb7b",
   "metadata": {
    "papermill": {
     "duration": 0.003898,
     "end_time": "2025-05-18T04:30:53.797718",
     "exception": false,
     "start_time": "2025-05-18T04:30:53.793820",
     "status": "completed"
    },
    "tags": []
   },
   "source": [
    "Let's first understand **Head**, rest of the stuff in the block are straightforward."
   ]
  },
  {
   "cell_type": "markdown",
   "id": "214c061f",
   "metadata": {
    "papermill": {
     "duration": 0.003804,
     "end_time": "2025-05-18T04:30:53.805698",
     "exception": false,
     "start_time": "2025-05-18T04:30:53.801894",
     "status": "completed"
    },
    "tags": []
   },
   "source": [
    "### An Attention Head\n",
    "\n",
    "For this section, let's refer to original transformer paper 'Figure 2' 'Scaled Dot Product Attention'. \n",
    "* We create 3 linear networks `Query(x_embed)`, `Key(x_embed)` and `Value(x_embed)`.\n",
    "* Then we perform matrix multiplication of `Query(x_embed)` and `Key(x_embed)` to create $(T x T)$ attention matrix.\n",
    "* Each element in attention matrix represents how much attention a token should provide to other tokens.\n",
    "* Note that we apply a causal mask (triangular) to make sure that each token attends to previous tokens only.\n",
    "* Further, we multiply this with `Value(x_embed)` to get self-attended representation of the sequence.\n",
    "\n",
    "This is where the tokens are talking to each other and the context is being learnt. We have entered the positional encoding earlier because the $(t \\times t)$ attention matrix will be learnt corresponding to token position. In fact, using the actual token position in sentence would be better than their position in randomly chunked sequence, but it has not been done in GPT for some reason still unclear to me.\n",
    "\n",
    "Let's take the sequence `[\"I\", \"am\", \"feeling\", \"terribly\"]`. \n",
    "\n",
    "$$\n",
    "\\begin{bmatrix}\n",
    "I \\\\\n",
    "am \\\\\n",
    "feeling \\\\\n",
    "terribly \\\\\n",
    "\\end{bmatrix}\n",
    "$$\n",
    "\n",
    "Embedding (t x C) - \n",
    "\n",
    "$$\n",
    "\\begin{bmatrix}\n",
    "0.49 & 0.31 & 0.51 & 0.55 & 0.37 & 0.23 & 0.15 & 0.83 & 0.28 & 0.79 \\\\\n",
    "0.92 & 0.62 & 0.65 & 0.53 & 0.53 & 0.03 & 0.47 & 0.77 & 0.35 & 0.63 \\\\\n",
    "0.73 & 0.57 & 0.91 & 0.27 & 0.24 & 0.81 & 0.12 & 0.56 & 0.36 & 0.86 \\\\\n",
    "0.65 & 0.92 & 0.09 & 0.03 & 0.92 & 0.79 & 0.10 & 0.53 & 0.85 & 0.75 \\\\\n",
    "\\end{bmatrix}\n",
    "$$\n",
    "\n",
    "To infer the next token, when we pass this sequence through a trained attention head, it calculates (4 x 4) attention matrix based on the trained networks `Query(x_embed)` and `Key(x_embed)`.\n",
    "\n",
    "`Query(x_embed)` x `Key(x_embed)`$^T$ (t x t) -\n",
    "\n",
    "$$\n",
    "\\begin{bmatrix}\n",
    "2.51 & 2.77 & 2.69 & 2.49 \\\\\n",
    "2.77 & 3.54 & 3.06 & 2.98 \\\\\n",
    "2.69 & 3.06 & 3.67 & 3.21 \\\\\n",
    "2.49 & 2.98 & 3.21 & 4.34 \\\\\n",
    "\\end{bmatrix}\n",
    "$$\n",
    "\n",
    "Causal Self-Attention (t x t) before softmax -\n",
    "\n",
    "$$\n",
    "\\begin{bmatrix}\n",
    "2.51 & -inf & -inf & -inf \\\\\n",
    "2.77 & 3.54 & -inf & -inf \\\\\n",
    "2.69 & 3.06 & 3.67 & -inf \\\\\n",
    "2.49 & 2.98 & 3.21 & 4.34 \\\\\n",
    "\\end{bmatrix}\n",
    "$$\n",
    "\n",
    "Then we apply softmax and multiply with `Value(x_embed)` ( so that -inf becomes 0 and don't contribute anything).\n",
    "\n",
    "The output of a head is (B x t x hs), where hs stands for head_size."
   ]
  },
  {
   "cell_type": "code",
   "execution_count": 5,
   "id": "6624c90f",
   "metadata": {
    "execution": {
     "iopub.execute_input": "2025-05-18T04:30:53.815582Z",
     "iopub.status.busy": "2025-05-18T04:30:53.814772Z",
     "iopub.status.idle": "2025-05-18T04:30:53.821682Z",
     "shell.execute_reply": "2025-05-18T04:30:53.821024Z"
    },
    "papermill": {
     "duration": 0.013318,
     "end_time": "2025-05-18T04:30:53.823009",
     "exception": false,
     "start_time": "2025-05-18T04:30:53.809691",
     "status": "completed"
    },
    "tags": []
   },
   "outputs": [],
   "source": [
    "class Head(nn.Module):\n",
    "\n",
    "    def __init__(self, hs):\n",
    "        super().__init__()\n",
    "\n",
    "        # Query, Key and Value trio\n",
    "        self.key = nn.Linear(C, hs, bias=False)\n",
    "        self.query = nn.Linear(C, hs, bias=False)\n",
    "        self.value = nn.Linear(C, hs, bias=False)\n",
    "\n",
    "        # Attention mask (buffer stays in model parameter set but not trainable)\n",
    "        self.register_buffer('tril', torch.tril(torch.ones(T-1, T-1)))\n",
    "\n",
    "    def forward(self, x_embed):\n",
    "        \n",
    "        B,t,C = x_embed.shape\n",
    "        k = self.key(x_embed)   # (B,t,hs)\n",
    "        q = self.query(x_embed) # (B,t,hs)\n",
    "        v = self.value(x_embed) # (B,t,hs)\n",
    "        \n",
    "        # Compute attention matrix (Qt' scaled by sqrt(C))\n",
    "        wei = q @ k.transpose(-2,-1) * k.shape[-1]**-0.5 # (B, t, t)\n",
    "\n",
    "        # Replace attention scores with -Inf based on attention mask\n",
    "        wei = wei.masked_fill(self.tril[:t, :t] == 0, float('-inf')) # (B, t, t)\n",
    "\n",
    "        # Softmax\n",
    "        wei = nn.functional.softmax(wei, dim=-1) # (B, t, t)\n",
    "        \n",
    "        # Calculate self-attended representation of the B sequences\n",
    "        head_out = wei @ v # (B, t, hs)\n",
    "        \n",
    "        return head_out"
   ]
  },
  {
   "cell_type": "code",
   "execution_count": 6,
   "id": "0958208b",
   "metadata": {
    "execution": {
     "iopub.execute_input": "2025-05-18T04:30:53.832817Z",
     "iopub.status.busy": "2025-05-18T04:30:53.832232Z",
     "iopub.status.idle": "2025-05-18T04:30:53.850071Z",
     "shell.execute_reply": "2025-05-18T04:30:53.848891Z"
    },
    "papermill": {
     "duration": 0.024223,
     "end_time": "2025-05-18T04:30:53.851565",
     "exception": false,
     "start_time": "2025-05-18T04:30:53.827342",
     "status": "completed"
    },
    "tags": []
   },
   "outputs": [
    {
     "name": "stdout",
     "output_type": "stream",
     "text": [
      "torch.Size([4, 3, 5])\n",
      "torch.Size([4, 4, 5])\n",
      "torch.Size([4, 5, 5])\n"
     ]
    }
   ],
   "source": [
    "# Test it\n",
    "head = Head(hs=5)\n",
    "\n",
    "# Let's test it for sequences of varying length upto T-1\n",
    "for t in [T-3, T-2, T-1]:\n",
    "    x_embed = torch.rand(B, t, C)\n",
    "    head_out = head(x_embed)\n",
    "    print(head_out.shape)"
   ]
  },
  {
   "cell_type": "markdown",
   "id": "f136b9f0",
   "metadata": {},
   "source": [
    "#### Discussuon: Why does it work for inferring on shorter sequence?\n",
    "\n",
    "We are creating the attention head which is compatiable with training (T-1) length sequences and inferring next token for upto (T-1) length sequences. \n",
    "\n",
    "A trained self-attention matrix is of dimension (T-1) x (T-1). Each position in the self-attention matrix learns how much it should attend to previous token, previous to previous tokens and so on. If we have a shorter sequence, say t, only the corresponding upper left (t x t) corner of the matrix is used. It doesn't violate any learning."
   ]
  },
  {
   "cell_type": "markdown",
   "id": "13bab721",
   "metadata": {
    "papermill": {
     "duration": 0.004013,
     "end_time": "2025-05-18T04:30:53.860110",
     "exception": false,
     "start_time": "2025-05-18T04:30:53.856097",
     "status": "completed"
    },
    "tags": []
   },
   "source": [
    "### Multi-Head Attention\n",
    "\n",
    "This is all about -\n",
    "* computing `num_heads` heads in parallel\n",
    "* concatenating the last dim (hs) from all the heads\n",
    "* projecting it to C dim using a `nn.Linear()` netowrk"
   ]
  },
  {
   "cell_type": "code",
   "execution_count": 7,
   "id": "b5da10a8",
   "metadata": {
    "execution": {
     "iopub.execute_input": "2025-05-18T04:30:53.869678Z",
     "iopub.status.busy": "2025-05-18T04:30:53.869386Z",
     "iopub.status.idle": "2025-05-18T04:30:53.874820Z",
     "shell.execute_reply": "2025-05-18T04:30:53.874137Z"
    },
    "papermill": {
     "duration": 0.012048,
     "end_time": "2025-05-18T04:30:53.876333",
     "exception": false,
     "start_time": "2025-05-18T04:30:53.864285",
     "status": "completed"
    },
    "tags": []
   },
   "outputs": [],
   "source": [
    "class MultiHeadAttention(nn.Module):\n",
    "\n",
    "    def __init__(self, num_heads, hs):\n",
    "        super().__init__()\n",
    "        self.heads = nn.ModuleList([Head(hs) for _ in range(num_heads)])\n",
    "        self.proj = nn.Linear(hs * num_heads, C)\n",
    "\n",
    "    def forward(self, x_embed):\n",
    "        out = torch.cat([h(x_embed) for h in self.heads], dim=-1)\n",
    "        mh_out = self.proj(out)\n",
    "        return mh_out"
   ]
  },
  {
   "cell_type": "code",
   "execution_count": 8,
   "id": "744e33be",
   "metadata": {
    "execution": {
     "iopub.execute_input": "2025-05-18T04:30:53.887022Z",
     "iopub.status.busy": "2025-05-18T04:30:53.886702Z",
     "iopub.status.idle": "2025-05-18T04:30:53.904451Z",
     "shell.execute_reply": "2025-05-18T04:30:53.903466Z"
    },
    "papermill": {
     "duration": 0.026023,
     "end_time": "2025-05-18T04:30:53.906804",
     "exception": false,
     "start_time": "2025-05-18T04:30:53.880781",
     "status": "completed"
    },
    "tags": []
   },
   "outputs": [
    {
     "name": "stdout",
     "output_type": "stream",
     "text": [
      "torch.Size([4, 3, 10])\n",
      "torch.Size([4, 4, 10])\n",
      "torch.Size([4, 5, 10])\n"
     ]
    }
   ],
   "source": [
    "# Test it\n",
    "multihead = MultiHeadAttention(num_heads = 2, hs = 5)\n",
    "\n",
    "# Let's test it for sequences of varying length upto T-1\n",
    "for t in [T-3, T-2, T-1]:\n",
    "    x_embed = torch.rand(B, t, C)\n",
    "    mh_out = multihead(x_embed)\n",
    "    print(mh_out.shape)"
   ]
  },
  {
   "cell_type": "markdown",
   "id": "1aa8397f",
   "metadata": {
    "papermill": {
     "duration": 0.007831,
     "end_time": "2025-05-18T04:30:53.920350",
     "exception": false,
     "start_time": "2025-05-18T04:30:53.912519",
     "status": "completed"
    },
    "tags": []
   },
   "source": [
    "### Feedforward\n",
    "\n",
    "This is the feedforward block attached to MultiHead Attention in the image above"
   ]
  },
  {
   "cell_type": "code",
   "execution_count": 9,
   "id": "e81e3cbb",
   "metadata": {
    "execution": {
     "iopub.execute_input": "2025-05-18T04:30:53.936709Z",
     "iopub.status.busy": "2025-05-18T04:30:53.935778Z",
     "iopub.status.idle": "2025-05-18T04:30:53.942995Z",
     "shell.execute_reply": "2025-05-18T04:30:53.942114Z"
    },
    "papermill": {
     "duration": 0.016463,
     "end_time": "2025-05-18T04:30:53.944685",
     "exception": false,
     "start_time": "2025-05-18T04:30:53.928222",
     "status": "completed"
    },
    "tags": []
   },
   "outputs": [],
   "source": [
    "class FeedFoward(nn.Module):\n",
    "\n",
    "    def __init__(self, C):\n",
    "        super().__init__()\n",
    "        self.net = nn.Sequential(\n",
    "            nn.Linear(C, 4 * C),\n",
    "            nn.ReLU(),\n",
    "            nn.Linear(4 * C, C)\n",
    "        )\n",
    "\n",
    "    def forward(self, mh_out):\n",
    "        ff_out = self.net(mh_out)\n",
    "        return ff_out"
   ]
  },
  {
   "cell_type": "code",
   "execution_count": 10,
   "id": "613a008d",
   "metadata": {
    "execution": {
     "iopub.execute_input": "2025-05-18T04:30:53.961320Z",
     "iopub.status.busy": "2025-05-18T04:30:53.960683Z",
     "iopub.status.idle": "2025-05-18T04:30:53.971787Z",
     "shell.execute_reply": "2025-05-18T04:30:53.970908Z"
    },
    "papermill": {
     "duration": 0.021022,
     "end_time": "2025-05-18T04:30:53.973552",
     "exception": false,
     "start_time": "2025-05-18T04:30:53.952530",
     "status": "completed"
    },
    "tags": []
   },
   "outputs": [
    {
     "name": "stdout",
     "output_type": "stream",
     "text": [
      "torch.Size([4, 3, 10])\n",
      "torch.Size([4, 4, 10])\n",
      "torch.Size([4, 5, 10])\n"
     ]
    }
   ],
   "source": [
    "# Test it\n",
    "ff = FeedFoward(C = 10)\n",
    "\n",
    "# Let's test it for sequences of varying length upto T-1\n",
    "for t in [T-3, T-2, T-1]:\n",
    "    mh_out = torch.rand(B, t, C)\n",
    "    ff_out = ff(mh_out)\n",
    "    print(ff_out.shape)"
   ]
  },
  {
   "cell_type": "markdown",
   "id": "4d1af5fd",
   "metadata": {
    "papermill": {
     "duration": 0.007378,
     "end_time": "2025-05-18T04:30:53.988642",
     "exception": false,
     "start_time": "2025-05-18T04:30:53.981264",
     "status": "completed"
    },
    "tags": []
   },
   "source": [
    "## Block\n",
    "\n",
    "A chain of Multi-Head Attention and Feedforward"
   ]
  },
  {
   "cell_type": "code",
   "execution_count": 11,
   "id": "2b07ea23",
   "metadata": {
    "execution": {
     "iopub.execute_input": "2025-05-18T04:30:53.999923Z",
     "iopub.status.busy": "2025-05-18T04:30:53.999044Z",
     "iopub.status.idle": "2025-05-18T04:30:54.005781Z",
     "shell.execute_reply": "2025-05-18T04:30:54.004920Z"
    },
    "papermill": {
     "duration": 0.01403,
     "end_time": "2025-05-18T04:30:54.007464",
     "exception": false,
     "start_time": "2025-05-18T04:30:53.993434",
     "status": "completed"
    },
    "tags": []
   },
   "outputs": [],
   "source": [
    "class Block(nn.Module):\n",
    "\n",
    "    def __init__(self, C, num_heads):\n",
    "        super().__init__()\n",
    "        \n",
    "        hs = C // num_heads # because in the end the heads will be concatenated to C\n",
    "        self.multihead = MultiHeadAttention(num_heads, hs)\n",
    "        self.ff = FeedFoward(C)\n",
    "\n",
    "    def forward(self, x_embed):\n",
    "        mh_out = x_embed + self.multihead(x_embed)\n",
    "        block_out = mh_out + self.ff(mh_out)\n",
    "        return block_out"
   ]
  },
  {
   "cell_type": "code",
   "execution_count": 12,
   "id": "7597c14d",
   "metadata": {
    "execution": {
     "iopub.execute_input": "2025-05-18T04:30:54.023837Z",
     "iopub.status.busy": "2025-05-18T04:30:54.023453Z",
     "iopub.status.idle": "2025-05-18T04:30:54.034031Z",
     "shell.execute_reply": "2025-05-18T04:30:54.033210Z"
    },
    "papermill": {
     "duration": 0.020415,
     "end_time": "2025-05-18T04:30:54.035558",
     "exception": false,
     "start_time": "2025-05-18T04:30:54.015143",
     "status": "completed"
    },
    "tags": []
   },
   "outputs": [
    {
     "name": "stdout",
     "output_type": "stream",
     "text": [
      "torch.Size([4, 3, 10])\n",
      "torch.Size([4, 4, 10])\n",
      "torch.Size([4, 5, 10])\n"
     ]
    }
   ],
   "source": [
    "# Test it\n",
    "block = Block(C = 10, num_heads = 2)\n",
    "\n",
    "# Let's test it for sequences of varying length upto T-1\n",
    "for t in [T-3, T-2, T-1]:\n",
    "    x_embed = torch.rand(B, t, C)\n",
    "    block_out = block(x_embed)\n",
    "    print(block_out.shape)"
   ]
  },
  {
   "cell_type": "markdown",
   "id": "c4b3e59b",
   "metadata": {
    "papermill": {
     "duration": 0.00575,
     "end_time": "2025-05-18T04:30:54.046172",
     "exception": false,
     "start_time": "2025-05-18T04:30:54.040422",
     "status": "completed"
    },
    "tags": []
   },
   "source": [
    "### Putting it all together\n",
    "\n",
    "We already had the generative model `GPTLanguageModel` without the `Block`s. Now that we have the blocks. Let's insert it."
   ]
  },
  {
   "cell_type": "code",
   "execution_count": 13,
   "id": "a0a1f479",
   "metadata": {
    "execution": {
     "iopub.execute_input": "2025-05-18T04:30:54.062409Z",
     "iopub.status.busy": "2025-05-18T04:30:54.062096Z",
     "iopub.status.idle": "2025-05-18T04:30:54.083408Z",
     "shell.execute_reply": "2025-05-18T04:30:54.082583Z"
    },
    "papermill": {
     "duration": 0.03182,
     "end_time": "2025-05-18T04:30:54.085110",
     "exception": false,
     "start_time": "2025-05-18T04:30:54.053290",
     "status": "completed"
    },
    "tags": []
   },
   "outputs": [
    {
     "name": "stdout",
     "output_type": "stream",
     "text": [
      "x_logits.shape:  torch.Size([4, 5, 100])\n",
      "\n",
      "Sum of softmax logits of first token in the first sequence as probability:\n",
      " tensor(1.0000, grad_fn=<SumBackward0>)\n",
      "\n",
      "loss:  tensor(4.6045, grad_fn=<NllLossBackward0>)\n"
     ]
    }
   ],
   "source": [
    "############################## DATA ######################################\n",
    "\n",
    "np.random.seed(1)\n",
    "\n",
    "B = 4\n",
    "T = 6\n",
    "V = 100\n",
    "\n",
    "# Suppose this is a batch of sequences randomly picked from the whole sequence\n",
    "x = np.random.randint(0, V-1, (B, T))\n",
    "\n",
    "x = torch.from_numpy(x)\n",
    "\n",
    "inputs = x[:,:-1] # predictor sequences\n",
    "targets = x[:,1:] # predictable sequences\n",
    "\n",
    "\n",
    "\n",
    "############################  MODEL  ####################################\n",
    "\n",
    "C = 10\n",
    "num_heads = 2 # MODIFICATION : How many heads in MultiHeadAttention?\n",
    "n_layer = 3 # MODIFICATION : How many blocks stacked sequentially?\n",
    "\n",
    "class GPTLanguageModel(nn.Module):\n",
    "    \n",
    "    def __init__(self):\n",
    "        super().__init__()\n",
    "        \n",
    "        self.token_embedding_table = nn.Embedding(V, C)\n",
    "        self.position_embedding_table = nn.Embedding(T-1, C)\n",
    "        self.blocks = nn.Sequential(*[Block(C, num_heads) for _ in range(n_layer)])\n",
    "        self.lm_head = nn.Linear(C, V)\n",
    "\n",
    "    def forward(self, idx, targets=None):\n",
    "        B, t = idx.shape\n",
    "        x_tok_embed = self.token_embedding_table(idx)\n",
    "        x_pos_embed = self.position_embedding_table(torch.arange(t))\n",
    "        x_embed = x_tok_embed + x_pos_embed\n",
    "        x_t_out = self.blocks(x_embed) # MODIFICATION : appplying the transformer blocks\n",
    "        x_raw_logits = self.lm_head(x_t_out)\n",
    "        x_logits = torch.softmax(x_raw_logits, axis=2)\n",
    "\n",
    "        if targets is None:\n",
    "            loss = None\n",
    "        else:\n",
    "            B, t, C = x_logits.shape\n",
    "            logits = x_logits.view(B*t, C)\n",
    "            targets = targets.contiguous().view(B*t)\n",
    "            loss = nn.functional.cross_entropy(logits, targets)\n",
    "        #############################################\n",
    "\n",
    "        return x_logits, loss\n",
    "\n",
    "###################################################################################\n",
    "\n",
    "# Call instance of our model class\n",
    "model = GPTLanguageModel()\n",
    "\n",
    "# Pass predictor sequence through the model\n",
    "x_logits, loss = model(idx = inputs, targets = targets)\n",
    "\n",
    "print(\"x_logits.shape: \", x_logits.shape)\n",
    "print(\"\\nSum of softmax logits of first token in the first sequence as probability:\\n\", torch.sum(x_logits[0,0,:]))\n",
    "print(\"\\nloss: \", loss)"
   ]
  },
  {
   "cell_type": "markdown",
   "id": "a09357ce",
   "metadata": {},
   "source": [
    "### Inference/ Generation"
   ]
  },
  {
   "cell_type": "code",
   "execution_count": 14,
   "id": "dfef86a6",
   "metadata": {},
   "outputs": [
    {
     "name": "stdout",
     "output_type": "stream",
     "text": [
      "Input Sequence (Prompt): \n",
      " tensor([[46, 85,  6],\n",
      "        [73, 71, 51],\n",
      "        [82, 21,  1],\n",
      "        [59, 65, 57]])\n",
      "\n",
      "\n",
      "Here are the sequences with 10 next tokens predicted\n",
      " tensor([[46, 85,  6, 74, 66, 19, 12, 37, 92, 72, 72, 72, 72],\n",
      "        [73, 71, 51, 15, 66, 19, 19, 19, 19, 19, 19, 19, 19],\n",
      "        [82, 21,  1, 74, 66, 19, 19, 19, 19, 19, 19, 19, 19],\n",
      "        [59, 65, 57, 88,  3, 72, 72, 72, 72, 72, 72, 72, 72]])\n"
     ]
    }
   ],
   "source": [
    "output_tokens = 10 # How many new tokens need to be generated\n",
    "\n",
    "result = torch.randint(0,99,(4,3))\n",
    "print(\"Input Sequence (Prompt): \\n\", result)\n",
    "\n",
    "for i in range(output_tokens):\n",
    "\n",
    "    new_inputs = result[:, -(T-1):]\n",
    "    x_logits, _ = model(idx = new_inputs, targets = None)\n",
    "    next_token_probability = x_logits[:,-1,:] # because we only need to generate last token\n",
    "    predicted_next_token = torch.argmax(next_token_probability, axis = 1)\n",
    "    result = torch.cat((result, predicted_next_token.unsqueeze(1)), dim=1)\n",
    "\n",
    "print(\"\\n\\nHere are the sequences with {} next tokens predicted\\n\".format(output_tokens), \n",
    "      result)"
   ]
  }
 ],
 "metadata": {
  "kaggle": {
   "accelerator": "none",
   "dataSources": [],
   "dockerImageVersionId": 31012,
   "isGpuEnabled": false,
   "isInternetEnabled": true,
   "language": "python",
   "sourceType": "notebook"
  },
  "kernelspec": {
   "display_name": "Python 3",
   "language": "python",
   "name": "python3"
  },
  "language_info": {
   "codemirror_mode": {
    "name": "ipython",
    "version": 3
   },
   "file_extension": ".py",
   "mimetype": "text/x-python",
   "name": "python",
   "nbconvert_exporter": "python",
   "pygments_lexer": "ipython3",
   "version": "3.13.3"
  },
  "papermill": {
   "default_parameters": {},
   "duration": 12.553634,
   "end_time": "2025-05-18T04:30:56.648868",
   "environment_variables": {},
   "exception": null,
   "input_path": "__notebook__.ipynb",
   "output_path": "__notebook__.ipynb",
   "parameters": {},
   "start_time": "2025-05-18T04:30:44.095234",
   "version": "2.6.0"
  }
 },
 "nbformat": 4,
 "nbformat_minor": 5
}
