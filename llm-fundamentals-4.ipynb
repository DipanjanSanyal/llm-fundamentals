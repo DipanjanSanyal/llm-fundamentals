{
 "cells": [
  {
   "cell_type": "markdown",
   "id": "53bef656",
   "metadata": {
    "papermill": {
     "duration": 0.004715,
     "end_time": "2025-04-10T13:11:38.552864",
     "exception": false,
     "start_time": "2025-04-10T13:11:38.548149",
     "status": "completed"
    },
    "tags": []
   },
   "source": [
    "* **Previous Notebook in series**: LLM Fundamentals 3\n",
    "\n",
    "* **This Notebook**: Training with LSTM"
   ]
  },
  {
   "cell_type": "code",
   "execution_count": 1,
   "id": "27b1b469",
   "metadata": {},
   "outputs": [
    {
     "name": "stdout",
     "output_type": "stream",
     "text": [
      "/Users/dipanjansanyal/Documents/LLM Fundamentals/env/bin/python\n"
     ]
    }
   ],
   "source": [
    "import sys\n",
    "print(sys.executable)"
   ]
  },
  {
   "cell_type": "code",
   "execution_count": 2,
   "id": "82899a7d",
   "metadata": {
    "execution": {
     "iopub.execute_input": "2025-04-10T13:11:38.562124Z",
     "iopub.status.busy": "2025-04-10T13:11:38.561867Z",
     "iopub.status.idle": "2025-04-10T13:11:38.568994Z",
     "shell.execute_reply": "2025-04-10T13:11:38.568245Z"
    },
    "papermill": {
     "duration": 0.013661,
     "end_time": "2025-04-10T13:11:38.570687",
     "exception": false,
     "start_time": "2025-04-10T13:11:38.557026",
     "status": "completed"
    },
    "tags": []
   },
   "outputs": [],
   "source": [
    "# Experiment Configuration\n",
    "context_length = 10\n",
    "num_epochs = 10\n",
    "training_batch_size = 32\n",
    "response_tokens = 200"
   ]
  },
  {
   "cell_type": "code",
   "execution_count": 3,
   "id": "9d39e548",
   "metadata": {
    "execution": {
     "iopub.execute_input": "2025-04-10T13:11:50.855473Z",
     "iopub.status.busy": "2025-04-10T13:11:50.855179Z",
     "iopub.status.idle": "2025-04-10T13:11:56.601579Z",
     "shell.execute_reply": "2025-04-10T13:11:56.600627Z"
    },
    "papermill": {
     "duration": 5.753672,
     "end_time": "2025-04-10T13:11:56.603290",
     "exception": false,
     "start_time": "2025-04-10T13:11:50.849618",
     "status": "completed"
    },
    "tags": []
   },
   "outputs": [
    {
     "data": {
      "text/plain": [
       "<torch._C.Generator at 0x12b95bab0>"
      ]
     },
     "execution_count": 3,
     "metadata": {},
     "output_type": "execute_result"
    }
   ],
   "source": [
    "import os\n",
    "import numpy as np # linear algebra\n",
    "import pandas as pd # data processing, CSV file I/O (e.g. pd.read_csv)\n",
    "import matplotlib.pyplot as plt\n",
    "import seaborn as sns\n",
    "import re\n",
    "import tokenmonster\n",
    "import more_itertools\n",
    "import torch\n",
    "import torch.nn as nn\n",
    "from torch.utils.data import TensorDataset, DataLoader\n",
    "from sklearn.model_selection import train_test_split\n",
    "torch.manual_seed(123)"
   ]
  },
  {
   "cell_type": "code",
   "execution_count": 4,
   "id": "c6dad121",
   "metadata": {
    "execution": {
     "iopub.execute_input": "2025-04-10T13:11:56.614262Z",
     "iopub.status.busy": "2025-04-10T13:11:56.613863Z",
     "iopub.status.idle": "2025-04-10T13:11:56.686052Z",
     "shell.execute_reply": "2025-04-10T13:11:56.685232Z"
    },
    "papermill": {
     "duration": 0.07939,
     "end_time": "2025-04-10T13:11:56.687636",
     "exception": false,
     "start_time": "2025-04-10T13:11:56.608246",
     "status": "completed"
    },
    "tags": []
   },
   "outputs": [
    {
     "name": "stdout",
     "output_type": "stream",
     "text": [
      "mps\n"
     ]
    }
   ],
   "source": [
    "# Check if MPS is available and use it if available\n",
    "\n",
    "if torch.backends.mps.is_available():\n",
    "    device = torch.device(\"mps\")\n",
    "else:\n",
    "    device = torch.device(\"cpu\")\n",
    "\n",
    "print(device)"
   ]
  },
  {
   "cell_type": "code",
   "execution_count": 5,
   "id": "1cb990ce",
   "metadata": {
    "execution": {
     "iopub.execute_input": "2025-04-10T13:11:56.698156Z",
     "iopub.status.busy": "2025-04-10T13:11:56.697888Z",
     "iopub.status.idle": "2025-04-10T13:12:03.734074Z",
     "shell.execute_reply": "2025-04-10T13:12:03.733263Z"
    },
    "papermill": {
     "duration": 7.043401,
     "end_time": "2025-04-10T13:12:03.735883",
     "exception": false,
     "start_time": "2025-04-10T13:11:56.692482",
     "status": "completed"
    },
    "tags": []
   },
   "outputs": [
    {
     "name": "stdout",
     "output_type": "stream",
     "text": [
      "Path to dataset files: /Users/dipanjansanyal/.cache/kagglehub/datasets/amontgomerie/cefr-levelled-english-texts/versions/1\n"
     ]
    }
   ],
   "source": [
    "import kagglehub\n",
    "path = kagglehub.dataset_download(\"amontgomerie/cefr-levelled-english-texts\")\n",
    "print(\"Path to dataset files:\", path)"
   ]
  },
  {
   "cell_type": "code",
   "execution_count": 6,
   "id": "e4575ea2",
   "metadata": {},
   "outputs": [
    {
     "name": "stdout",
     "output_type": "stream",
     "text": [
      "Dataset shape: (288, 3)\n",
      "Dataset columns: Index(['index', 'text', 'label'], dtype='object')\n"
     ]
    }
   ],
   "source": [
    "dataset = pd.read_csv(path + \"/cefr_leveled_texts.csv\")\n",
    "dataset = dataset.query('label == \"A1\"').reset_index()\n",
    "print(\"Dataset shape:\", dataset.shape)\n",
    "print(\"Dataset columns:\", dataset.columns)"
   ]
  },
  {
   "cell_type": "code",
   "execution_count": 7,
   "id": "394e26c6",
   "metadata": {
    "execution": {
     "iopub.execute_input": "2025-04-10T13:12:03.747459Z",
     "iopub.status.busy": "2025-04-10T13:12:03.746690Z",
     "iopub.status.idle": "2025-04-10T13:12:03.757229Z",
     "shell.execute_reply": "2025-04-10T13:12:03.756642Z"
    },
    "papermill": {
     "duration": 0.018118,
     "end_time": "2025-04-10T13:12:03.759109",
     "exception": false,
     "start_time": "2025-04-10T13:12:03.740991",
     "status": "completed"
    },
    "tags": []
   },
   "outputs": [],
   "source": [
    "# Deduplicate repeated headlines\n",
    "dataset = dataset.filter(['text']).drop_duplicates()"
   ]
  },
  {
   "cell_type": "code",
   "execution_count": 8,
   "id": "4bcc8b06",
   "metadata": {
    "execution": {
     "iopub.execute_input": "2025-04-10T13:12:03.770355Z",
     "iopub.status.busy": "2025-04-10T13:12:03.769640Z",
     "iopub.status.idle": "2025-04-10T13:12:04.215538Z",
     "shell.execute_reply": "2025-04-10T13:12:04.214715Z"
    },
    "papermill": {
     "duration": 0.453084,
     "end_time": "2025-04-10T13:12:04.217067",
     "exception": false,
     "start_time": "2025-04-10T13:12:03.763983",
     "status": "completed"
    },
    "tags": []
   },
   "outputs": [
    {
     "data": {
      "text/plain": [
       "2049"
      ]
     },
     "execution_count": 8,
     "metadata": {},
     "output_type": "execute_result"
    }
   ],
   "source": [
    "tokenizer = tokenmonster.load(\"english-2048-consistent-v1\")\n",
    "tokenizer.add_special_token('<pad>')"
   ]
  },
  {
   "cell_type": "code",
   "execution_count": 9,
   "id": "7f532d61",
   "metadata": {
    "execution": {
     "iopub.execute_input": "2025-04-10T13:12:04.228329Z",
     "iopub.status.busy": "2025-04-10T13:12:04.227619Z",
     "iopub.status.idle": "2025-04-10T13:12:04.239029Z",
     "shell.execute_reply": "2025-04-10T13:12:04.238063Z"
    },
    "papermill": {
     "duration": 0.018842,
     "end_time": "2025-04-10T13:12:04.240819",
     "exception": false,
     "start_time": "2025-04-10T13:12:04.221977",
     "status": "completed"
    },
    "tags": []
   },
   "outputs": [
    {
     "name": "stdout",
     "output_type": "stream",
     "text": [
      "Vocabulary Size: 2049\n",
      "Testing tokenizer: [ 182  869 1680  852 1002  217  420 1540    4  104 1386 1222 1144    3]\n",
      "Testing tokenizer: You need to try harder in school!\n",
      "I am doing well \n",
      "182 :  \n",
      "869 :   you\n",
      "1680 :   need to\n",
      "852 :   try\n",
      "1002 :   hard\n",
      "217 :  er\n",
      "420 :   in\n",
      "1540 :   school\n",
      "4 :  !\n",
      "104 :  \n",
      "\n",
      "1386 :   I am\n",
      "1222 :   doing\n",
      "1144 :   well\n",
      "3 :   \n"
     ]
    }
   ],
   "source": [
    "print(\"Vocabulary Size:\", tokenizer.vocab_size)\n",
    "token_ids = tokenizer.tokenize(dataset.text[0][0:50])\n",
    "print(\"Testing tokenizer:\", token_ids)\n",
    "print(\"Testing tokenizer:\", tokenizer.decoder().decode(token_ids))\n",
    "for i in token_ids:\n",
    "    print(i, \": \", tokenizer.decoder().decode(i))"
   ]
  },
  {
   "cell_type": "markdown",
   "id": "67ce8d33",
   "metadata": {
    "papermill": {
     "duration": 0.004587,
     "end_time": "2025-04-10T13:12:04.250367",
     "exception": false,
     "start_time": "2025-04-10T13:12:04.245780",
     "status": "completed"
    },
    "tags": []
   },
   "source": [
    "### Train Test data creation from token ids"
   ]
  },
  {
   "cell_type": "code",
   "execution_count": 10,
   "id": "608175b1",
   "metadata": {
    "execution": {
     "iopub.execute_input": "2025-04-10T13:12:04.261422Z",
     "iopub.status.busy": "2025-04-10T13:12:04.260833Z",
     "iopub.status.idle": "2025-04-10T13:12:50.482169Z",
     "shell.execute_reply": "2025-04-10T13:12:50.481458Z"
    },
    "papermill": {
     "duration": 46.22916,
     "end_time": "2025-04-10T13:12:50.484269",
     "exception": false,
     "start_time": "2025-04-10T13:12:04.255109",
     "status": "completed"
    },
    "tags": []
   },
   "outputs": [],
   "source": [
    "padding_token = tokenizer.tokenize('<pad>').item()\n",
    "list_of_sentences = list(dataset['text'])\n",
    "\n",
    "data = np.empty(shape = (0,context_length))\n",
    "for sentence in list_of_sentences:\n",
    "\n",
    "    sentence_tokens = tokenizer.tokenize(sentence)\n",
    "    l = len(sentence_tokens)\n",
    "    applicable_context_length = min(l, context_length)    \n",
    "\n",
    "    counter_t = np.empty(shape = (0,context_length))\n",
    "    for t in range(2,applicable_context_length+1):        \n",
    "\n",
    "        expanding_tuples = more_itertools.windowed(sentence_tokens, t)\n",
    "        data_t = np.array(list(expanding_tuples))\n",
    "        cols_to_pad = context_length - t\n",
    "        padded_data_t = np.pad(data_t, ((0,0),(cols_to_pad, 0)), mode = 'constant', constant_values = padding_token)\n",
    "        counter_t = np.vstack((counter_t, padded_data_t))      \n",
    "\n",
    "    data = np.vstack((data, counter_t))\n",
    "\n",
    "data = data.astype(int)"
   ]
  },
  {
   "cell_type": "code",
   "execution_count": 11,
   "id": "1938e8b6",
   "metadata": {
    "execution": {
     "iopub.execute_input": "2025-04-10T13:12:50.495857Z",
     "iopub.status.busy": "2025-04-10T13:12:50.495568Z",
     "iopub.status.idle": "2025-04-10T13:12:50.499424Z",
     "shell.execute_reply": "2025-04-10T13:12:50.498756Z"
    },
    "papermill": {
     "duration": 0.010937,
     "end_time": "2025-04-10T13:12:50.500876",
     "exception": false,
     "start_time": "2025-04-10T13:12:50.489939",
     "status": "completed"
    },
    "tags": []
   },
   "outputs": [],
   "source": [
    "inputs = data[:,:-1]\n",
    "target = data[:,-1]"
   ]
  },
  {
   "cell_type": "code",
   "execution_count": 12,
   "id": "9966cd74",
   "metadata": {
    "execution": {
     "iopub.execute_input": "2025-04-10T13:12:50.511650Z",
     "iopub.status.busy": "2025-04-10T13:12:50.511398Z",
     "iopub.status.idle": "2025-04-10T13:12:50.518114Z",
     "shell.execute_reply": "2025-04-10T13:12:50.517131Z"
    },
    "papermill": {
     "duration": 0.013993,
     "end_time": "2025-04-10T13:12:50.519701",
     "exception": false,
     "start_time": "2025-04-10T13:12:50.505708",
     "status": "completed"
    },
    "tags": []
   },
   "outputs": [
    {
     "name": "stdout",
     "output_type": "stream",
     "text": [
      "When X is:  <pad><pad><pad><pad><pad><pad><pad><pad> | y is:   you\n",
      "When X is:  <pad><pad><pad><pad><pad><pad><pad><pad> you | y is:   need to\n",
      "When X is:  <pad><pad><pad><pad><pad><pad><pad><pad> need to | y is:   try\n",
      "When X is:  <pad><pad><pad><pad><pad><pad><pad><pad> try | y is:   hard\n",
      "When X is:  <pad><pad><pad><pad><pad><pad><pad><pad> hard | y is:  er\n"
     ]
    }
   ],
   "source": [
    "# How did we form this?\n",
    "\n",
    "for i in range(5):\n",
    "    print(\"When X is: \", tokenizer.decode(inputs[i].tolist()), \n",
    "          \"| y is: \", tokenizer.decode([target[i]]))"
   ]
  },
  {
   "cell_type": "code",
   "execution_count": 13,
   "id": "62d062d8",
   "metadata": {
    "execution": {
     "iopub.execute_input": "2025-04-10T13:12:50.530285Z",
     "iopub.status.busy": "2025-04-10T13:12:50.530040Z",
     "iopub.status.idle": "2025-04-10T13:12:50.567826Z",
     "shell.execute_reply": "2025-04-10T13:12:50.566865Z"
    },
    "papermill": {
     "duration": 0.045016,
     "end_time": "2025-04-10T13:12:50.569602",
     "exception": false,
     "start_time": "2025-04-10T13:12:50.524586",
     "status": "completed"
    },
    "tags": []
   },
   "outputs": [
    {
     "name": "stdout",
     "output_type": "stream",
     "text": [
      "(393948, 9) (393948,)\n",
      "0    0\n",
      "1    0\n",
      "2    0\n",
      "3    0\n",
      "4    0\n",
      "5    0\n",
      "6    0\n",
      "7    0\n",
      "8    0\n",
      "dtype: int64 0\n"
     ]
    }
   ],
   "source": [
    "# Inspect created data\n",
    "print(inputs.shape, target.shape)\n",
    "print(pd.DataFrame(inputs).isna().sum(), pd.Series(target).isna().sum())"
   ]
  },
  {
   "cell_type": "code",
   "execution_count": 14,
   "id": "e6b8d48c",
   "metadata": {
    "execution": {
     "iopub.execute_input": "2025-04-10T13:12:50.580866Z",
     "iopub.status.busy": "2025-04-10T13:12:50.580612Z",
     "iopub.status.idle": "2025-04-10T13:12:50.592608Z",
     "shell.execute_reply": "2025-04-10T13:12:50.591805Z"
    },
    "papermill": {
     "duration": 0.019523,
     "end_time": "2025-04-10T13:12:50.594208",
     "exception": false,
     "start_time": "2025-04-10T13:12:50.574685",
     "status": "completed"
    },
    "tags": []
   },
   "outputs": [
    {
     "data": {
      "text/plain": [
       "(np.int64(0), np.int64(2038))"
      ]
     },
     "execution_count": 14,
     "metadata": {},
     "output_type": "execute_result"
    }
   ],
   "source": [
    "target.min(), target.max()"
   ]
  },
  {
   "cell_type": "markdown",
   "id": "6bdaa7e2",
   "metadata": {
    "papermill": {
     "duration": 0.004779,
     "end_time": "2025-04-10T13:12:50.604182",
     "exception": false,
     "start_time": "2025-04-10T13:12:50.599403",
     "status": "completed"
    },
    "tags": []
   },
   "source": [
    "### Model Building"
   ]
  },
  {
   "cell_type": "code",
   "execution_count": 15,
   "id": "732f3d1f",
   "metadata": {
    "execution": {
     "iopub.execute_input": "2025-04-10T13:12:50.614882Z",
     "iopub.status.busy": "2025-04-10T13:12:50.614655Z",
     "iopub.status.idle": "2025-04-10T13:12:50.903150Z",
     "shell.execute_reply": "2025-04-10T13:12:50.902453Z"
    },
    "papermill": {
     "duration": 0.296036,
     "end_time": "2025-04-10T13:12:50.905065",
     "exception": false,
     "start_time": "2025-04-10T13:12:50.609029",
     "status": "completed"
    },
    "tags": []
   },
   "outputs": [],
   "source": [
    "# Convert them into torch tensors, split train-test, torch dataset and then load in torch dataloader\n",
    "\n",
    "inputs_tensor = torch.from_numpy(inputs.astype(int)).to(device)\n",
    "target_tensor = torch.from_numpy(target.astype(int)).to(device)\n",
    "\n",
    "X_train, X_test, y_train, y_test = train_test_split(inputs_tensor, target_tensor, test_size = 0.2, random_state = 123)\n",
    "\n",
    "train_dataset = TensorDataset(X_train,y_train)\n",
    "test_dataset = TensorDataset(X_test,y_test)\n",
    "\n",
    "train_loader = DataLoader(train_dataset, batch_size = training_batch_size, shuffle = True, drop_last = True)\n",
    "test_loader = DataLoader(test_dataset, batch_size = training_batch_size)"
   ]
  },
  {
   "cell_type": "code",
   "execution_count": null,
   "id": "a1425061",
   "metadata": {
    "execution": {
     "iopub.execute_input": "2025-04-10T13:12:50.916628Z",
     "iopub.status.busy": "2025-04-10T13:12:50.916340Z",
     "iopub.status.idle": "2025-04-10T13:12:50.922050Z",
     "shell.execute_reply": "2025-04-10T13:12:50.921392Z"
    },
    "papermill": {
     "duration": 0.013113,
     "end_time": "2025-04-10T13:12:50.923575",
     "exception": false,
     "start_time": "2025-04-10T13:12:50.910462",
     "status": "completed"
    },
    "tags": []
   },
   "outputs": [],
   "source": [
    "# Applying LSTM\n",
    "\n",
    "class Net(nn.Module):    \n",
    "\n",
    "    def __init__(self, vocab_size):\n",
    "        super().__init__()\n",
    "        self.token_embedding_table = nn.Embedding(vocab_size, 128)\n",
    "        self.rnn = nn.LSTM(input_size = 128, \n",
    "                          hidden_size = 32, \n",
    "                          num_layers = 1, \n",
    "                          batch_first = True, \n",
    "                          dropout = 0.2)\n",
    "\n",
    "        self.out = nn.Linear(32, vocab_size)          \n",
    "\n",
    "    def forward(self, idx, targets):       \n",
    "        embeds = self.token_embedding_table(idx) # (B x T x C)\n",
    "        out, hidden = self.rnn(embeds)\n",
    "        logits = self.out(out[:,-1,:]) # Taking the LSTM ouput corresonding to last word in X\n",
    "        lossfun = nn.CrossEntropyLoss()\n",
    "        loss = lossfun(logits, targets)\n",
    "        prob = torch.softmax(logits, axis = 1)\n",
    "        ypred = torch.argmax(prob, axis = 1)       \n",
    "\n",
    "        return loss, ypred"
   ]
  },
  {
   "cell_type": "code",
   "execution_count": 17,
   "id": "61f52e23",
   "metadata": {
    "execution": {
     "iopub.execute_input": "2025-04-10T13:12:50.934515Z",
     "iopub.status.busy": "2025-04-10T13:12:50.934281Z",
     "iopub.status.idle": "2025-04-10T13:12:51.651594Z",
     "shell.execute_reply": "2025-04-10T13:12:51.650726Z"
    },
    "papermill": {
     "duration": 0.724825,
     "end_time": "2025-04-10T13:12:51.653373",
     "exception": false,
     "start_time": "2025-04-10T13:12:50.928548",
     "status": "completed"
    },
    "tags": []
   },
   "outputs": [
    {
     "data": {
      "text/plain": [
       "(tensor(7.6223, device='mps:0', grad_fn=<NllLossBackward0>), torch.Size([32]))"
      ]
     },
     "execution_count": 17,
     "metadata": {},
     "output_type": "execute_result"
    }
   ],
   "source": [
    "# Test the forward net for a batch\n",
    "\n",
    "m = Net(tokenizer.vocab_size) # resource intensive for large vocab size\n",
    "m.to(device)\n",
    "Xb, yb = next(iter(train_loader))\n",
    "\n",
    "m.eval()\n",
    "loss, ypred = m.forward(Xb, yb)\n",
    "loss, ypred.shape"
   ]
  },
  {
   "cell_type": "markdown",
   "id": "a2fb861c",
   "metadata": {
    "papermill": {
     "duration": 0.0049,
     "end_time": "2025-04-10T13:12:51.663778",
     "exception": false,
     "start_time": "2025-04-10T13:12:51.658878",
     "status": "completed"
    },
    "tags": []
   },
   "source": [
    "### Model Training"
   ]
  },
  {
   "cell_type": "code",
   "execution_count": 18,
   "id": "b9e5b43a",
   "metadata": {
    "execution": {
     "iopub.execute_input": "2025-04-10T13:12:51.676405Z",
     "iopub.status.busy": "2025-04-10T13:12:51.675948Z",
     "iopub.status.idle": "2025-04-10T16:15:19.713665Z",
     "shell.execute_reply": "2025-04-10T16:15:19.712659Z"
    },
    "papermill": {
     "duration": 10948.046398,
     "end_time": "2025-04-10T16:15:19.716355",
     "exception": false,
     "start_time": "2025-04-10T13:12:51.669957",
     "status": "completed"
    },
    "tags": []
   },
   "outputs": [
    {
     "name": "stdout",
     "output_type": "stream",
     "text": [
      "Trained for epoch 0\n",
      "Eval for epoch 0\n",
      "Trained for epoch 1\n",
      "Eval for epoch 1\n",
      "Trained for epoch 2\n",
      "Eval for epoch 2\n",
      "Trained for epoch 3\n",
      "Eval for epoch 3\n",
      "Trained for epoch 4\n",
      "Eval for epoch 4\n",
      "Trained for epoch 5\n",
      "Eval for epoch 5\n",
      "Trained for epoch 6\n",
      "Eval for epoch 6\n",
      "Trained for epoch 7\n",
      "Eval for epoch 7\n",
      "Trained for epoch 8\n",
      "Eval for epoch 8\n",
      "Trained for epoch 9\n",
      "Eval for epoch 9\n"
     ]
    }
   ],
   "source": [
    "# Call instance of model class\n",
    "m = Net(tokenizer.vocab_size)\n",
    "m.to(device)\n",
    "\n",
    "# Define optimizer\n",
    "optim = torch.optim.AdamW(m.parameters(), lr=0.0001)\n",
    "\n",
    "# Training loop\n",
    "batch_train_loss = []\n",
    "batch_test_loss = []\n",
    "\n",
    "for epochi in range(num_epochs):    \n",
    "\n",
    "    m.train()\n",
    "    for Xb, yb in train_loader:        \n",
    "\n",
    "        # forward pass and loss\n",
    "        loss, ypred = m.forward(Xb, yb)        \n",
    "\n",
    "        # backprop\n",
    "        optim.zero_grad()\n",
    "        loss.backward()\n",
    "        optim.step()\n",
    "\n",
    "    print(\"Trained for epoch {}\".format(epochi))\n",
    "    # if epochi % 10 == 0:\n",
    "        # print(\"Trained for epoch {}\".format(epochi))        \n",
    "\n",
    "    batch_train_loss.append(loss.item())   \n",
    "\n",
    "    m.eval()\n",
    "    with torch.no_grad():\n",
    "        for Xb, yb in test_loader:            \n",
    "\n",
    "            # forward pass and loss\n",
    "            loss, ypred = m.forward(Xb, yb)        \n",
    "\n",
    "        batch_test_loss.append(loss.item())    \n",
    "\n",
    "    print(\"Eval for epoch {}\".format(epochi))\n",
    "    # if epochi % 10 == 0:\n",
    "        # print(\"Eval for epoch {}\".format(epochi))    \n",
    "\n",
    "    # Clear cache\n",
    "    torch.cuda.empty_cache()"
   ]
  },
  {
   "cell_type": "code",
   "execution_count": 19,
   "id": "6c5c08e3",
   "metadata": {
    "execution": {
     "iopub.execute_input": "2025-04-10T16:15:19.732527Z",
     "iopub.status.busy": "2025-04-10T16:15:19.731657Z",
     "iopub.status.idle": "2025-04-10T16:15:20.082367Z",
     "shell.execute_reply": "2025-04-10T16:15:20.081396Z"
    },
    "papermill": {
     "duration": 0.360626,
     "end_time": "2025-04-10T16:15:20.084222",
     "exception": false,
     "start_time": "2025-04-10T16:15:19.723596",
     "status": "completed"
    },
    "tags": []
   },
   "outputs": [
    {
     "data": {
      "text/plain": [
       "<Axes: >"
      ]
     },
     "execution_count": 19,
     "metadata": {},
     "output_type": "execute_result"
    },
    {
     "data": {
      "image/png": "[encoded data removed]",
      "text/plain": [
       "<Figure size 640x480 with 1 Axes>"
      ]
     },
     "metadata": {},
     "output_type": "display_data"
    }
   ],
   "source": [
    "# Plot to see drop in test loss\n",
    "\n",
    "losses = pd.DataFrame(\n",
    "    {'batch_train_loss':batch_train_loss, \n",
    "     'batch_test_loss':batch_test_loss}\n",
    ")\n",
    "\n",
    "losses.plot(kind='line')"
   ]
  },
  {
   "cell_type": "code",
   "execution_count": 20,
   "id": "9de3906b",
   "metadata": {
    "execution": {
     "iopub.execute_input": "2025-04-10T16:15:20.101498Z",
     "iopub.status.busy": "2025-04-10T16:15:20.101135Z",
     "iopub.status.idle": "2025-04-10T16:15:25.488240Z",
     "shell.execute_reply": "2025-04-10T16:15:25.487357Z"
    },
    "papermill": {
     "duration": 5.397579,
     "end_time": "2025-04-10T16:15:25.489872",
     "exception": false,
     "start_time": "2025-04-10T16:15:20.092293",
     "status": "completed"
    },
    "tags": []
   },
   "outputs": [],
   "source": [
    "# # Check diversity of prediction\n",
    "# token = pd.DataFrame({'token':ypred.cpu().numpy().astype(int)})\n",
    "# token = token.value_counts().reset_index()\n",
    "# sns.barplot(token, x = 'count', y = 'token', orient = 'h')"
   ]
  },
  {
   "cell_type": "markdown",
   "id": "81d3bb37",
   "metadata": {
    "papermill": {
     "duration": 0.007998,
     "end_time": "2025-04-10T16:15:25.505986",
     "exception": false,
     "start_time": "2025-04-10T16:15:25.497988",
     "status": "completed"
    },
    "tags": []
   },
   "source": [
    "### Inference"
   ]
  },
  {
   "cell_type": "code",
   "execution_count": 21,
   "id": "b48cf562",
   "metadata": {
    "execution": {
     "iopub.execute_input": "2025-04-10T16:15:25.523288Z",
     "iopub.status.busy": "2025-04-10T16:15:25.522763Z",
     "iopub.status.idle": "2025-04-10T16:15:25.526586Z",
     "shell.execute_reply": "2025-04-10T16:15:25.525906Z"
    },
    "papermill": {
     "duration": 0.014245,
     "end_time": "2025-04-10T16:15:25.528058",
     "exception": false,
     "start_time": "2025-04-10T16:15:25.513813",
     "status": "completed"
    },
    "tags": []
   },
   "outputs": [],
   "source": [
    "queries = [\"Going to school\", \"Sleeping early\"]"
   ]
  },
  {
   "cell_type": "code",
   "execution_count": 22,
   "id": "df9f99f1",
   "metadata": {
    "execution": {
     "iopub.execute_input": "2025-04-10T16:15:25.544715Z",
     "iopub.status.busy": "2025-04-10T16:15:25.544492Z",
     "iopub.status.idle": "2025-04-10T16:15:25.549924Z",
     "shell.execute_reply": "2025-04-10T16:15:25.549112Z"
    },
    "papermill": {
     "duration": 0.01568,
     "end_time": "2025-04-10T16:15:25.551491",
     "exception": false,
     "start_time": "2025-04-10T16:15:25.535811",
     "status": "completed"
    },
    "tags": []
   },
   "outputs": [],
   "source": [
    "# Last <context_length-1> tokens with left padding if sentence is shorter\n",
    "\n",
    "queries_encoded = np.empty((0, context_length - 1))\n",
    "for sentence in queries:\n",
    "    sentence_encoded = tokenizer.tokenize(sentence)\n",
    "    l = len(sentence_encoded)    \n",
    "\n",
    "    if l < context_length - 1:\n",
    "        sentence_encoded = np.pad(sentence_encoded, (context_length - 1 - l, 0), 'constant', constant_values = padding_token)\n",
    "\n",
    "    else:\n",
    "        sentence_encoded = sentence_encoded[-(context_length - 1):]    \n",
    "\n",
    "    queries_encoded = np.vstack((queries_encoded, sentence_encoded)).astype(int)"
   ]
  },
  {
   "cell_type": "code",
   "execution_count": null,
   "id": "7370c181",
   "metadata": {
    "execution": {
     "iopub.execute_input": "2025-04-10T16:15:25.568319Z",
     "iopub.status.busy": "2025-04-10T16:15:25.568078Z",
     "iopub.status.idle": "2025-04-10T16:15:25.860774Z",
     "shell.execute_reply": "2025-04-10T16:15:25.859822Z"
    },
    "papermill": {
     "duration": 0.303039,
     "end_time": "2025-04-10T16:15:25.862526",
     "exception": false,
     "start_time": "2025-04-10T16:15:25.559487",
     "status": "completed"
    },
    "tags": []
   },
   "outputs": [
    {
     "name": "stdout",
     "output_type": "stream",
     "text": [
      "Going to school. he didn't want to go. he didn't want to go. he didn't want to go. he didn't want to go. he didn't want to go. he didn't want to go. he didn't want to go. he didn't want to go. he didn't want to go. he didn't want to go. he didn't want to go. he didn't want to go. he didn't want to go. he didn't want to go. he didn't want to go. he didn't want to go. he didn't want to go. he didn't want to go. he didn't want to go. he didn't want to go. he didn't want to go. he didn't want to go. he didn't want to go. he didn't want to go. he didn't want to go. he didn't want to go. he didn't want to go. he didn't want to go. he didn't want to go. he didn't want to go. he didn't want to go. he didn't want to go. he didn't want to go. he didn't want to go. he didn't want to go. he didn't want to go. he didn't want to go. he didn't want to go. he didn't want to go. he didn't want to go\n",
      "\n",
      "Sleeping early. he didn't likeed the new au au au aul. he didn't likeed the new au au au aul. he didn't likeed the new au au au aul. he didn't likeed the new au au au aul. he didn't likeed the new au au au aul. he didn't likeed the new au au au aul. he didn't likeed the new au au au aul. he didn't likeed the new au au au aul. he didn't likeed the new au au au aul. he didn't likeed the new au au au aul. he didn't likeed the new au au au aul. he didn't likeed the new au au au aul. he didn't likeed the new\n"
     ]
    }
   ],
   "source": [
    "query_X = torch.tensor(queries_encoded).to(device).long()\n",
    "dummy_y = torch.zeros(len(queries)).to(device).long()\n",
    "\n",
    "result = queries\n",
    "for _ in range(response_tokens):\n",
    "    m.eval()\n",
    "    with torch.no_grad():\n",
    "        loss, ypred = m.forward(query_X, dummy_y)\n",
    "        \n",
    "    tokenid = ypred\n",
    "    word = np.array([tokenizer.decoder().decode(i.item()) for i in tokenid])\n",
    "\n",
    "    for i in range(len(result)):\n",
    "        result[i] = result[i] + word[i]\n",
    "        \n",
    "    query_X = torch.cat((query_X, tokenid.view(tokenid.shape[0], 1)), axis = 1)\n",
    "    query_X = query_X[:,-(context_length-1):]\n",
    "\n",
    "print(\"\\n\\n\".join(result))"
   ]
  }
 ],
 "metadata": {
  "kaggle": {
   "accelerator": "gpu",
   "dataSources": [
    {
     "datasetId": 5914,
     "sourceId": 6944507,
     "sourceType": "datasetVersion"
    }
   ],
   "dockerImageVersionId": 30762,
   "isGpuEnabled": true,
   "isInternetEnabled": true,
   "language": "python",
   "sourceType": "notebook"
  },
  "kernelspec": {
   "display_name": "Python 3",
   "language": "python",
   "name": "python3"
  },
  "language_info": {
   "codemirror_mode": {
    "name": "ipython",
    "version": 3
   },
   "file_extension": ".py",
   "mimetype": "text/x-python",
   "name": "python",
   "nbconvert_exporter": "python",
   "pygments_lexer": "ipython3",
   "version": "3.13.3"
  },
  "papermill": {
   "default_parameters": {},
   "duration": 11032.474625,
   "end_time": "2025-04-10T16:15:28.588659",
   "environment_variables": {},
   "exception": null,
   "input_path": "__notebook__.ipynb",
   "output_path": "__notebook__.ipynb",
   "parameters": {},
   "start_time": "2025-04-10T13:11:36.114034",
   "version": "2.6.0"
  }
 },
 "nbformat": 4,
 "nbformat_minor": 5
}
